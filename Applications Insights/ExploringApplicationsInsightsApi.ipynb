{
  "cells": [
    {
      "cell_type": "code",
      "execution_count": 1,
      "metadata": {
        "dotnet_interactive": {
          "language": "csharp"
        }
      },
      "source": [
        "// Authenticate to applications insights.\n",
        "\n",
        "// Get all the logs about this entity."
      ],
      "outputs": []
    },
    {
      "cell_type": "markdown",
      "metadata": {},
      "source": [
        "## Resources and Notes\n",
        "- [Application insights API docs](https://dev.applicationinsights.io/documentation/Authorization/API-key-authentication)\n",
        "\n",
        "\n",
        "format for call\n",
        "https://api.applicationinsights.io/{api-version}/apps/{app-id}/{query-path}?[query-parameters]\n",
        " Headers \"X-Api-Key: {api-key}\"\n",
        "\n",
        "\n",
        "vai's personal instance:\n",
        "- API key: k7iqxklkgdikw6ybqlklfnmcu3air4cm7knr6581\n",
        "- app ID: 912a76b4-a960-460e-b65d-30c8c7e181ca"
      ]
    },
    {
      "cell_type": "markdown",
      "metadata": {},
      "source": [
        ""
      ]
    },
    {
      "cell_type": "code",
      "execution_count": 1,
      "metadata": {
        "dotnet_interactive": {
          "language": "csharp"
        }
      },
      "source": [
        "using System.Net.Http;\n",
        "using System.Text.Json;"
      ],
      "outputs": [
        {
          "output_type": "error",
          "ename": "Error",
          "evalue": "(2,23): error CS0234: The type or namespace name 'Json' does not exist in the namespace 'System.Net.Http' (are you missing an assembly reference?)",
          "traceback": []
        }
      ]
    },
    {
      "cell_type": "code",
      "execution_count": 1,
      "metadata": {
        "dotnet_interactive": {
          "language": "csharp"
        }
      },
      "source": [
        ""
      ],
      "outputs": []
    },
    {
      "cell_type": "code",
      "execution_count": 1,
      "metadata": {
        "dotnet_interactive": {
          "language": "csharp"
        }
      },
      "source": [
        "// application insights entity."
      ],
      "outputs": []
    },
    {
      "cell_type": "code",
      "execution_count": 1,
      "metadata": {
        "dotnet_interactive": {
          "language": "csharp"
        }
      },
      "source": [
        "// build query\n",
        "    // for given session\n",
        "    // get all logs from this entity"
      ],
      "outputs": []
    },
    {
      "cell_type": "code",
      "execution_count": 1,
      "metadata": {
        "dotnet_interactive": {
          "language": "csharp"
        }
      },
      "source": [
        "static async Task get()\n",
        "{\n",
        "    string applicationId = \"912a76b4-a960-460e-b65d-30c8c7e181ca\";  \n",
        "    string apiKey = \"k7iqxklkgdikw6ybqlklfnmcu3air4cm7knr6581\"; \n",
        "    string host = \"api.applicationinsights.io\";\n",
        "    string apiVersion = \"v1\";\n",
        "    string query =\"metrics/requests/count\";\n",
        "    \n",
        "    string postQuery = @\"union customMetrics, customEvents | limit 30 | order  by  timestamp\";\n",
        "\n",
        "  try\t\n",
        "  {\n",
        "    using HttpClient client = new HttpClient(); // typycally we would use only one http client per application.\n",
        "\n",
        "    client.DefaultRequestHeaders.Add(\"X-Api-Key\", apiKey);\n",
        "  \n",
        "    \n",
        "    var uri = new UriBuilder();\n",
        "    uri.Scheme = \"https\";\n",
        "    uri.Host = host;\n",
        "    uri.Path = $\"{apiVersion}/apps/{applicationId}/query\";\n",
        "    Console.WriteLine(uri.ToString());\n",
        "\n",
        "    var jsonstring = string.Concat(\n",
        "      \"{\",\n",
        "          \"\\\"query\\\":\",\n",
        "          $\"\\\"{postQuery}\\\"\",\n",
        "      \"}\"\n",
        "    );\n",
        "\n",
        "    var postContent = new StringContent(postQuery, Encoding.UTF8,  \"application/json\");\n",
        "    \n",
        "    Console.WriteLine(postContent.ToDisplayString());\n",
        "    \n",
        "    var resp = client.PostAsync(uri.ToString(), postContent );\n",
        "    \n",
        "    Console.WriteLine(resp.ToDisplayString());\n",
        "\n",
        "    await resp;\n",
        "\n",
        "    //  HttpResponseMessage response = await client.GetAsync(uri.ToString());\n",
        "    //  response.EnsureSuccessStatusCode();\n",
        "    //  string responseBody = await response.Content.ReadAsStringAsync();\n",
        "\n",
        "     // Above three lines can be replaced with new helper method below\n",
        "     // string responseBody = await client.GetStringAsync(uri);\n",
        "\n",
        "    //  Console.WriteLine(responseBody);\n",
        "  }\n",
        "  catch(HttpRequestException e)\n",
        "  {\n",
        "     Console.WriteLine(\"\\nException Caught!\");\t\n",
        "     Console.WriteLine(\"Message :{0} \",e.Message);\n",
        "  }\n",
        "}\n",
        "\n",
        "await get();"
      ],
      "outputs": [
        {
          "output_type": "execute_result",
          "data": {
            "text/plain": "https://api.applicationinsights.io/v1/apps/912a76b4-a960-460e-b65d-30c8c7e181ca/query\r\n"
          },
          "execution_count": 1,
          "metadata": {}
        },
        {
          "output_type": "execute_result",
          "data": {
            "text/plain": "{ System.Net.Http.StringContent: Headers: [ { [Content-Type, System.String[]]: Key: Content-Type, Value: [ application/json; charset=utf-8 ] } ] }\r\n"
          },
          "execution_count": 1,
          "metadata": {}
        },
        {
          "output_type": "execute_result",
          "data": {
            "text/plain": "{ System.Runtime.CompilerServices.AsyncTaskMethodBuilder`1+AsyncStateMachineBox`1[System.Net.Http.HttpResponseMessage,System.Net.Http.HttpClient+<SendAsyncCore>d__85]: MoveNextAction: { System.Action: Target: { System.Runtime.CompilerServices.AsyncTaskMethodBuilder`1+AsyncStateMachineBox`1[System.Net.Http.HttpResponseMessage,System.Net.Http.HttpClient+<SendAsyncCore>d__85]: MoveNextAction: { System.Action: Target: { System.Runtime.CompilerServices.AsyncTaskMethodBuilder`1+AsyncStateMachineBox`1[System.Net.Http.HttpResponseMessage,System.Net.Http.HttpClient+<SendAsyncCore>d__85]: MoveNextAction: { System.Action: Target: System.Runtime.CompilerServices.AsyncTaskMethodBuilder`1+AsyncStateMachineBox`1[System.Net.Http.HttpResponseMessage,System.Net.Http.HttpClient+<SendAsyncCore>d__85], Method: Void MoveNext() }, Id: 1, Exception: <null>, Status: WaitingForActivation, IsCanceled: False, IsCompleted: False, IsCompletedSuccessfully: False, CreationOptions: None, AsyncState: <null>, IsFaulted: False, StateMachine: { System.Net.Http.HttpClient+<SendAsyncCore>d__85: cancellationToken: System.Threading.CancellationToken, completionOption: ResponseContentRead, request: Method: POST, RequestUri: 'https://api.applicationinsights.io/v1/apps/912a76b4-a960-460e-b65d-30c8c7e181ca/query', Version: 1.1, Content: System.Net.Http.StringContent, Headers:\r\n{\r\n  X-Api-Key: k7iqxklkgdikw6ybqlklfnmcu3air4cm7knr6581\r\n  traceparent: 00-e49450e986e99540978bbe91c27a6fd3-f864ce2fbe0ecb4e-00\r\n  Content-Type: application/json; charset=utf-8\r\n  Content-Length: 67\r\n}, emitTelemetryStartStop: True, async: True }, Context: System.Threading.ExecutionContext }, Method: { Void MoveNext(): Name: MoveNext, DeclaringType: System.Runtime.CompilerServices.AsyncTaskMethodBuilder<System.Net.Http.HttpResponseMessage,System.Net.Http.HttpClient+<SendAsyncCore>d__85>, ReflectedType: System.Runtime.CompilerServices.AsyncTaskMethodBuilder<System.Net.Http.HttpResponseMessage,System.Net.Http.HttpClient+<SendAsyncCore>d__85>, MemberType: Method, MetadataToken: 100681351, Module: { System.Private.CoreLib.dll: MDStreamVersion: 131072, FullyQualifiedName: C:\\Program Files\\dotnet\\shared\\Microsoft.NETCore.App\\5.0.0\\System.Private.CoreLib.dll, ModuleVersionId: f3dd31a3-d437-4d7d-9525-d887480dae95, MetadataToken: 1, ScopeName: System.Private.CoreLib.dll, Name: System.Private.CoreLib.dll, Assembly: System.Private.CoreLib, Version=5.0.0.0, Culture=neutral, PublicKeyToken=7cec85d7bea7798e, ModuleHandle: System.ModuleHandle, CustomAttributes: [ [System.Runtime.CompilerServices.NullablePublicOnlyAttribute((Boolean)False)], [System.Runtime.CompilerServices.SkipLocalsInitAttribute()] ] }, IsSecurityCritical: True, IsSecuritySafeCritical: False, IsSecurityTransparent: False, MethodHandle: { System.RuntimeMethodHandle: Value: 140730606152464 }, Attributes: PrivateScope, Public, Final, Virtual, HideBySig, VtableLayoutMask, CallingConvention: Standard, HasThis, ReturnType: System.Void, ReturnTypeCustomAttributes: { Void : ParameterType: System.Void, Name: <null>, HasDefaultValue: True, DefaultValue: <null>, RawDefaultValue: <null>, MetadataToken: 134217728, Attributes: None, Member: Void MoveNext(), Position: -1, IsIn: False, IsLcid: False, IsOptional: False, IsOut: False, IsRetval: False, CustomAttributes: [  ] }, ReturnParameter: { Void : ParameterType: System.Void, Name: <null>, HasDefaultValue: True, DefaultValue: <null>, RawDefaultValue: <null>, MetadataToken: 134217728, Attributes: None, Member: Void MoveNext(), Position: -1, IsIn: False, IsLcid: False, IsOptional: False, IsOut: False, IsRetval: False, CustomAttributes: [  ] }, IsCollectible: False, IsGenericMethod: False, IsGenericMethodDefinition: False, ContainsGenericParameters: False, MethodImplementationFlags: Managed, .. } }, Id: 1, Exception: <null>, Status: WaitingForActivation, IsCanceled: False, IsCompleted: False, IsCompletedSuccessfully: False, CreationOptions: None, AsyncState: <null>, IsFaulted: False, StateMachine: { System.Net.Http.HttpClient+<SendAsyncCore>d__85: cancellationToken: { System.Threading.CancellationToken: IsCancellationRequested: False, CanBeCanceled: False, WaitHandle: { System.Threading.ManualResetEvent: Handle: 3064, SafeWaitHandle: Microsoft.Win32.SafeHandles.SafeWaitHandle } }, completionOption: ResponseContentRead, request: { Method: POST, RequestUri: 'https://api.applicationinsights.io/v1/apps/912a76b4-a960-460e-b65d-30c8c7e181ca/query', Version: 1.1, Content: System.Net.Http.StringContent, Headers:\r\n{\r\n  X-Api-Key: k7iqxklkgdikw6ybqlklfnmcu3air4cm7knr6581\r\n  traceparent: 00-e49450e986e99540978bbe91c27a6fd3-f864ce2fbe0ecb4e-00\r\n  Content-Type: application/json; charset=utf-8\r\n  Content-Length: 67\r\n}: Version: { 1.1: Major: 1, Minor: 1, Build: -1, Revision: -1, MajorRevision: -1, MinorRevision: -1 }, VersionPolicy: RequestVersionOrLower, Content: { System.Net.Http.StringContent: Headers: [ [Content-Type, System.String[]], [Content-Length, System.String[]] ] }, Method: { POST: Method: POST }, RequestUri: { https://api.applicationinsights.io/v1/apps/912a76b4-a960-460e-b65d-30c8c7e181ca/query: AbsolutePath: /v1/apps/912a76b4-a960-460e-b65d-30c8c7e181ca/query, AbsoluteUri: https://api.applicationinsights.io/v1/apps/912a76b4-a960-460e-b65d-30c8c7e181ca/query, LocalPath: /v1/apps/912a76b4-a960-460e-b65d-30c8c7e181ca/query, Authority: api.applicationinsights.io, HostNameType: Dns, IsDefaultPort: True, IsFile: False, IsLoopback: False, PathAndQuery: /v1/apps/912a76b4-a960-460e-b65d-30c8c7e181ca/query, Segments: [ /, v1/, apps/, 912a76b4-a960-460e-b65d-30c8c7e181ca/, query ], IsUnc: False, Host: api.applicationinsights.io, Port: 443, Query: , Fragment: , Scheme: https, OriginalString: https://api.applicationinsights.io/v1/apps/912a76b4-a960-460e-b65d-30c8c7e181ca/query, DnsSafeHost: api.applicationinsights.io, IdnHost: api.applicationinsights.io, IsAbsoluteUri: True, .. }, Headers: [ [X-Api-Key, System.String[]], [traceparent, System.String[]] ], Properties: [  ], Options: [  ] }, emitTelemetryStartStop: True, async: True }, Context: System.Threading.ExecutionContext }, Method: { Void MoveNext(): Name: MoveNext, DeclaringType: System.Runtime.CompilerServices.AsyncTaskMethodBuilder<System.Net.Http.HttpResponseMessage,System.Net.Http.HttpClient+<SendAsyncCore>d__85>, ReflectedType: System.Runtime.CompilerServices.AsyncTaskMethodBuilder<System.Net.Http.HttpResponseMessage,System.Net.Http.HttpClient+<SendAsyncCore>d__85>, MemberType: Method, MetadataToken: 100681351, Module: { System.Private.CoreLib.dll: MDStreamVersion: 131072, FullyQualifiedName: C:\\Program Files\\dotnet\\shared\\Microsoft.NETCore.App\\5.0.0\\System.Private.CoreLib.dll, ModuleVersionId: f3dd31a3-d437-4d7d-9525-d887480dae95, MetadataToken: 1, ScopeName: System.Private.CoreLib.dll, Name: System.Private.CoreLib.dll, Assembly: { System.Private.CoreLib, Version=5.0.0.0, Culture=neutral, PublicKeyToken=7cec85d7bea7798e: CodeBase: file:///C:/Program Files/dotnet/shared/Microsoft.NETCore.App/5.0.0/System.Private.CoreLib.dll, FullName: System.Private.CoreLib, Version=5.0.0.0, Culture=neutral, PublicKeyToken=7cec85d7bea7798e, EntryPoint: <null>, DefinedTypes: [ Microsoft.CodeAnalysis.EmbeddedAttribute, System.Runtime.CompilerServices.IsUnmanagedAttribute, System.Runtime.CompilerServices.NullableAttribute, System.Runtime.CompilerServices.NullableContextAttribute, System.Runtime.CompilerServices.NullablePublicOnlyAttribute, System.Runtime.CompilerServices.NativeIntegerAttribute, Interop, Interop+Kernel32, Interop+Kernel32+NlsVersionInfoEx, Interop+Kernel32+FILE_STANDARD_INFO, Interop+Kernel32+FILE_TIME, Interop+Kernel32+FINDEX_INFO_LEVELS, Interop+Kernel32+FINDEX_SEARCH_OPS, Interop+Kernel32+GET_FILEEX_INFO_LEVELS, Interop+Kernel32+CPINFO, Interop+Kernel32+CPINFO+<DefaultChar>e__FixedBuffer, Interop+Kernel32+CPINFO+<LeadByte>e__FixedBuffer, Interop+Kernel32+PROCESS_MEMORY_COUNTERS, Interop+Kernel32+MEMORY_BASIC_INFORMATION, Interop+Kernel32+MEMORYSTATUSEX ... (2118 more) ], IsCollectible: False, ManifestModule: { System.Private.CoreLib.dll: MDStreamVersion: 131072, FullyQualifiedName: C:\\Program Files\\dotnet\\shared\\Microsoft.NETCore.App\\5.0.0\\System.Private.CoreLib.dll, ModuleVersionId: f3dd31a3-d437-4d7d-9525-d887480dae95, MetadataToken: 1, ScopeName: System.Private.CoreLib.dll, Name: System.Private.CoreLib.dll, Assembly: System.Private.CoreLib, Version=5.0.0.0, Culture=neutral, PublicKeyToken=7cec85d7bea7798e, ModuleHandle: System.ModuleHandle, CustomAttributes: [ [System.Runtime.CompilerServices.NullablePublicOnlyAttribute((Boolean)False)], [System.Runtime.CompilerServices.SkipLocalsInitAttribute()] ] }, ReflectionOnly: False, Location: C:\\Program Files\\dotnet\\shared\\Microsoft.NETCore.App\\5.0.0\\System.Private.CoreLib.dll, ImageRuntimeVersion: v4.0.30319, GlobalAssemblyCache: False, HostContext: 0, IsDynamic: False, ExportedTypes: [ Microsoft.Win32.SafeHandles.CriticalHandleMinusOneIsInvalid, Microsoft.Win32.SafeHandles.CriticalHandleZeroOrMinusOneIsInvalid, Microsoft.Win32.SafeHandles.SafeHandleMinusOneIsInvalid, Microsoft.Win32.SafeHandles.SafeHandleZeroOrMinusOneIsInvalid, Microsoft.Win32.SafeHandles.SafeWaitHandle, Microsoft.Win32.SafeHandles.SafeFileHandle, System.ArgIterator, System.Array, System.Attribute, System.BadImageFormatException, System.Buffer, System.Decimal, System.Delegate, System.Enum, System.Environment, System.Environment+SpecialFolder, System.Environment+SpecialFolderOption, System.Exception, System.GCCollectionMode, System.GCNotificationStatus ... (1086 more) ], IsFullyTrusted: True, CustomAttributes: [ [System.Reflection.AssemblyProductAttribute(\"Microsoft® .NET\")], [System.Runtime.CompilerServices.CompilationRelaxationsAttribute((Int32)8)], [System.Runtime.CompilerServices.RuntimeCompatibilityAttribute(WrapNonExceptionThrows = True)], [System.Diagnostics.DebuggableAttribute((System.Diagnostics.DebuggableAttribute+DebuggingModes)2)], [System.CLSCompliantAttribute((Boolean)True)], [System.Runtime.InteropServices.ComVisibleAttribute((Boolean)False)], [System.Runtime.InteropServices.DefaultDllImportSearchPathsAttribute((System.Runtime.InteropServices.DllImportSearchPath)2050)], [System.Reflection.AssemblyMetadataAttribute(\"Serviceable\", \"True\")], [System.Reflection.AssemblyMetadataAttribute(\".NETFrameworkAssembly\", \"\")], [System.Resources.NeutralResourcesLanguageAttribute(\"en-US\")], [System.Runtime.Versioning.TargetFrameworkAttribute(\".NETCoreApp,Version=v5.0\", FrameworkDisplayName = \"\")], [System.Reflection.AssemblyCompanyAttribute(\"Microsoft Corporation\")], [System.Reflection.AssemblyConfigurationAttribute(\"Release\")], [System.Reflection.AssemblyCopyrightAttribute(\"© Microsoft Corporation. All rights reserved.\")], [System.Reflection.AssemblyDescriptionAttribute(\"System.Private.CoreLib\")], [System.Reflection.AssemblyFileVersionAttribute(\"5.0.20.51904\")], [System.Reflection.AssemblyInformationalVersionAttribute(\"5.0.0+cf258a14b70ad9069470a108f13765e0e5988f51\")], [System.Runtime.CompilerServices.ExtensionAttribute()], [System.Reflection.AssemblyTitleAttribute(\"System.Private.CoreLib\")], [System.Reflection.AssemblyMetadataAttribute(\"RepositoryUrl\", \"git://github.com/dotnet/runtime\")] ], EscapedCodeBase: file:///C:/Program%20Files/dotnet/shared/Microsoft.NETCore.App/5.0.0/System.Private.CoreLib.dll, Modules: [ System.Private.CoreLib.dll ], SecurityRuleSet: None }, ModuleHandle: { System.ModuleHandle: MDStreamVersion: 131072 }, CustomAttributes: [ { [System.Runtime.CompilerServices.NullablePublicOnlyAttribute((Boolean)False)]: AttributeType: System.Runtime.CompilerServices.NullablePublicOnlyAttribute, Constructor: Void .ctor(Boolean), ConstructorArguments: [ (Boolean)False ], NamedArguments: [  ] }, { [System.Runtime.CompilerServices.SkipLocalsInitAttribute()]: AttributeType: System.Runtime.CompilerServices.SkipLocalsInitAttribute, Constructor: Void .ctor(), ConstructorArguments: [  ], NamedArguments: [  ] } ] }, IsSecurityCritical: True, IsSecuritySafeCritical: False, IsSecurityTransparent: False, MethodHandle: { System.RuntimeMethodHandle: Value: 140730606152464 }, Attributes: PrivateScope, Public, Final, Virtual, HideBySig, VtableLayoutMask, CallingConvention: Standard, HasThis, ReturnType: System.Void, ReturnTypeCustomAttributes: { Void : ParameterType: System.Void, Name: <null>, HasDefaultValue: True, DefaultValue: <null>, RawDefaultValue: <null>, MetadataToken: 134217728, Attributes: None, Member: { Void MoveNext(): Name: MoveNext, DeclaringType: System.Runtime.CompilerServices.AsyncTaskMethodBuilder<System.Net.Http.HttpResponseMessage,System.Net.Http.HttpClient+<SendAsyncCore>d__85>, ReflectedType: System.Runtime.CompilerServices.AsyncTaskMethodBuilder<System.Net.Http.HttpResponseMessage,System.Net.Http.HttpClient+<SendAsyncCore>d__85>, MemberType: Method, MetadataToken: 100681351, Module: { System.Private.CoreLib.dll: MDStreamVersion: 131072, FullyQualifiedName: C:\\Program Files\\dotnet\\shared\\Microsoft.NETCore.App\\5.0.0\\System.Private.CoreLib.dll, ModuleVersionId: f3dd31a3-d437-4d7d-9525-d887480dae95, MetadataToken: 1, ScopeName: System.Private.CoreLib.dll, Name: System.Private.CoreLib.dll, Assembly: System.Private.CoreLib, Version=5.0.0.0, Culture=neutral, PublicKeyToken=7cec85d7bea7798e, ModuleHandle: System.ModuleHandle, CustomAttributes: [ [System.Runtime.CompilerServices.NullablePublicOnlyAttribute((Boolean)False)], [System.Runtime.CompilerServices.SkipLocalsInitAttribute()] ] }, IsSecurityCritical: True, IsSecuritySafeCritical: False, IsSecurityTransparent: False, MethodHandle: { System.RuntimeMethodHandle: Value: 140730606152464 }, Attributes: PrivateScope, Public, Final, Virtual, HideBySig, VtableLayoutMask, CallingConvention: Standard, HasThis, ReturnType: System.Void, ReturnTypeCustomAttributes: { Void : ParameterType: System.Void, Name: <null>, HasDefaultValue: True, DefaultValue: <null>, RawDefaultValue: <null>, MetadataToken: 134217728, Attributes: None, Member: Void MoveNext(), Position: -1, IsIn: False, IsLcid: False, IsOptional: False, IsOut: False, IsRetval: False, CustomAttributes: [  ] }, ReturnParameter: { Void : ParameterType: System.Void, Name: <null>, HasDefaultValue: True, DefaultValue: <null>, RawDefaultValue: <null>, MetadataToken: 134217728, Attributes: None, Member: Void MoveNext(), Position: -1, IsIn: False, IsLcid: False, IsOptional: False, IsOut: False, IsRetval: False, CustomAttributes: [  ] }, IsCollectible: False, IsGenericMethod: False, IsGenericMethodDefinition: False, ContainsGenericParameters: False, MethodImplementationFlags: Managed, .. }, Position: -1, IsIn: False, IsLcid: False, IsOptional: False, IsOut: False, IsRetval: False, CustomAttributes: [  ] }, ReturnParameter: { Void : ParameterType: System.Void, Name: <null>, HasDefaultValue: True, DefaultValue: <null>, RawDefaultValue: <null>, MetadataToken: 134217728, Attributes: None, Member: { Void MoveNext(): Name: MoveNext, DeclaringType: System.Runtime.CompilerServices.AsyncTaskMethodBuilder<System.Net.Http.HttpResponseMessage,System.Net.Http.HttpClient+<SendAsyncCore>d__85>, ReflectedType: System.Runtime.CompilerServices.AsyncTaskMethodBuilder<System.Net.Http.HttpResponseMessage,System.Net.Http.HttpClient+<SendAsyncCore>d__85>, MemberType: Method, MetadataToken: 100681351, Module: { System.Private.CoreLib.dll: MDStreamVersion: 131072, FullyQualifiedName: C:\\Program Files\\dotnet\\shared\\Microsoft.NETCore.App\\5.0.0\\System.Private.CoreLib.dll, ModuleVersionId: f3dd31a3-d437-4d7d-9525-d887480dae95, MetadataToken: 1, ScopeName: System.Private.CoreLib.dll, Name: System.Private.CoreLib.dll, Assembly: System.Private.CoreLib, Version=5.0.0.0, Culture=neutral, PublicKeyToken=7cec85d7bea7798e, ModuleHandle: System.ModuleHandle, CustomAttributes: [ [System.Runtime.CompilerServices.NullablePublicOnlyAttribute((Boolean)False)], [System.Runtime.CompilerServices.SkipLocalsInitAttribute()] ] }, IsSecurityCritical: True, IsSecuritySafeCritical: False, IsSecurityTransparent: False, MethodHandle: { System.RuntimeMethodHandle: Value: 140730606152464 }, Attributes: PrivateScope, Public, Final, Virtual, HideBySig, VtableLayoutMask, CallingConvention: Standard, HasThis, ReturnType: System.Void, ReturnTypeCustomAttributes: { Void : ParameterType: System.Void, Name: <null>, HasDefaultValue: True, DefaultValue: <null>, RawDefaultValue: <null>, MetadataToken: 134217728, Attributes: None, Member: Void MoveNext(), Position: -1, IsIn: False, IsLcid: False, IsOptional: False, IsOut: False, IsRetval: False, CustomAttributes: [  ] }, ReturnParameter: { Void : ParameterType: System.Void, Name: <null>, HasDefaultValue: True, DefaultValue: <null>, RawDefaultValue: <null>, MetadataToken: 134217728, Attributes: None, Member: Void MoveNext(), Position: -1, IsIn: False, IsLcid: False, IsOptional: False, IsOut: False, IsRetval: False, CustomAttributes: [  ] }, IsCollectible: False, IsGenericMethod: False, IsGenericMethodDefinition: False, ContainsGenericParameters: False, MethodImplementationFlags: Managed, .. }, Position: -1, IsIn: False, IsLcid: False, IsOptional: False, IsOut: False, IsRetval: False, CustomAttributes: [  ] }, IsCollectible: False, IsGenericMethod: False, IsGenericMethodDefinition: False, ContainsGenericParameters: False, MethodImplementationFlags: Managed, .. } }, Id: 1, Exception: <null>, Status: WaitingForActivation, IsCanceled: False, IsCompleted: False, IsCompletedSuccessfully: False, CreationOptions: None, AsyncState: <null>, IsFaulted: False, StateMachine: { System.Net.Http.HttpClient+<SendAsyncCore>d__85: cancellationToken: { System.Threading.CancellationToken: IsCancellationRequested: False, CanBeCanceled: False, WaitHandle: { System.Threading.ManualResetEvent: Handle: 3064, SafeWaitHandle: { Microsoft.Win32.SafeHandles.SafeWaitHandle: IsInvalid: False, IsClosed: False } } }, completionOption: ResponseContentRead, request: { Method: POST, RequestUri: 'https://api.applicationinsights.io/v1/apps/912a76b4-a960-460e-b65d-30c8c7e181ca/query', Version: 1.1, Content: System.Net.Http.StringContent, Headers:\r\n{\r\n  X-Api-Key: k7iqxklkgdikw6ybqlklfnmcu3air4cm7knr6581\r\n  traceparent: 00-e49450e986e99540978bbe91c27a6fd3-f864ce2fbe0ecb4e-00\r\n  Content-Type: application/json; charset=utf-8\r\n  Content-Length: 67\r\n}: Version: { 1.1: Major: 1, Minor: 1, Build: -1, Revision: -1, MajorRevision: -1, MinorRevision: -1 }, VersionPolicy: RequestVersionOrLower, Content: { System.Net.Http.StringContent: Headers: [ { [Content-Type, System.String[]]: Key: Content-Type, Value: [ application/json; charset=utf-8 ] }, { [Content-Length, System.String[]]: Key: Content-Length, Value: [ 67 ] } ] }, Method: { POST: Method: POST }, RequestUri: { https://api.applicationinsights.io/v1/apps/912a76b4-a960-460e-b65d-30c8c7e181ca/query: AbsolutePath: /v1/apps/912a76b4-a960-460e-b65d-30c8c7e181ca/query, AbsoluteUri: https://api.applicationinsights.io/v1/apps/912a76b4-a960-460e-b65d-30c8c7e181ca/query, LocalPath: /v1/apps/912a76b4-a960-460e-b65d-30c8c7e181ca/query, Authority: api.applicationinsights.io, HostNameType: Dns, IsDefaultPort: True, IsFile: False, IsLoopback: False, PathAndQuery: /v1/apps/912a76b4-a960-460e-b65d-30c8c7e181ca/query, Segments: [ /, v1/, apps/, 912a76b4-a960-460e-b65d-30c8c7e181ca/, query ], IsUnc: False, Host: api.applicationinsights.io, Port: 443, Query: , Fragment: , Scheme: https, OriginalString: https://api.applicationinsights.io/v1/apps/912a76b4-a960-460e-b65d-30c8c7e181ca/query, DnsSafeHost: api.applicationinsights.io, IdnHost: api.applicationinsights.io, IsAbsoluteUri: True, .. }, Headers: [ { [X-Api-Key, System.String[]]: Key: X-Api-Key, Value: [ k7iqxklkgdikw6ybqlklfnmcu3air4cm7knr6581 ] }, { [traceparent, System.String[]]: Key: traceparent, Value: [ 00-e49450e986e99540978bbe91c27a6fd3-f864ce2fbe0ecb4e-00 ] } ], Properties: [  ], Options: [  ] }, emitTelemetryStartStop: True, async: True }, Context: System.Threading.ExecutionContext }\r\n"
          },
          "execution_count": 1,
          "metadata": {}
        }
      ]
    },
    {
      "cell_type": "code",
      "execution_count": 1,
      "metadata": {
        "dotnet_interactive": {
          "language": "csharp"
        }
      },
      "source": [
        ""
      ],
      "outputs": []
    },
    {
      "cell_type": "code",
      "execution_count": 1,
      "metadata": {
        "dotnet_interactive": {
          "language": "csharp"
        }
      },
      "source": [
        ""
      ],
      "outputs": []
    },
    {
      "cell_type": "code",
      "execution_count": 1,
      "metadata": {
        "dotnet_interactive": {
          "language": "csharp"
        }
      },
      "source": [
        ""
      ],
      "outputs": []
    },
    {
      "cell_type": "code",
      "execution_count": 1,
      "metadata": {
        "dotnet_interactive": {
          "language": "csharp"
        }
      },
      "source": [
        ""
      ],
      "outputs": []
    }
  ],
  "metadata": {
    "kernelspec": {
      "display_name": ".NET (C#)",
      "language": "C#",
      "name": ".net-csharp"
    },
    "language_info": {
      "file_extension": ".cs",
      "mimetype": "text/x-csharp",
      "name": "C#",
      "pygments_lexer": "csharp",
      "version": "8.0"
    }
  },
  "nbformat": 4,
  "nbformat_minor": 4
}