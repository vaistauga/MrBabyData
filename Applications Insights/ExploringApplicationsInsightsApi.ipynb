{
  "cells": [
    {
      "cell_type": "code",
      "execution_count": 1,
      "metadata": {
        "dotnet_interactive": {
          "language": "csharp"
        }
      },
      "source": [
        "// Authenticate to applications insights.\n",
        "\n",
        "// Get all the logs about this entity."
      ],
      "outputs": []
    },
    {
      "cell_type": "markdown",
      "metadata": {},
      "source": [
        "## Resources and Notes\n",
        "- [Application insights API docs](https://dev.applicationinsights.io/documentation/Authorization/API-key-authentication)\n",
        "\n",
        "\n",
        "format for call\n",
        "https://api.applicationinsights.io/{api-version}/apps/{app-id}/{query-path}?[query-parameters]\n",
        " Headers \"X-Api-Key: {api-key}\"\n",
        "\n",
        "\n",
        "vai's personal instance:\n",
        "- API key: k7iqxklkgdikw6ybqlklfnmcu3air4cm7knr6581\n",
        "- app ID: 912a76b4-a960-460e-b65d-30c8c7e181ca"
      ]
    },
    {
      "cell_type": "markdown",
      "metadata": {},
      "source": [
        ""
      ]
    },
    {
      "cell_type": "code",
      "execution_count": 1,
      "metadata": {
        "dotnet_interactive": {
          "language": "csharp"
        }
      },
      "source": [
        "using System.Net.Http;\n",
        "using System.Text.Json;"
      ],
      "outputs": []
    },
    {
      "cell_type": "code",
      "execution_count": 1,
      "metadata": {
        "dotnet_interactive": {
          "language": "csharp"
        }
      },
      "source": [
        "// Constants\n",
        "\n",
        "public static class Constants{\n",
        "    public const string applicationId = \"912a76b4-a960-460e-b65d-30c8c7e181ca\";  \n",
        "    public const string apiKey = \"k7iqxklkgdikw6ybqlklfnmcu3air4cm7knr6581\"; \n",
        "    public const string host = \"api.applicationinsights.io\";\n",
        "    public const string apiVersion = \"v1\";\n",
        "    public const string query =\"metrics/requests/count\";\n",
        "}"
      ],
      "outputs": []
    },
    {
      "cell_type": "code",
      "execution_count": 1,
      "metadata": {
        "dotnet_interactive": {
          "language": "csharp"
        }
      },
      "source": [
        "public static JsonString GetQuery()\n",
        "{\n",
        "    const string query = @\"union customMetrics, customEvents | limit 30 | order  by  timestamp\";\n",
        "    var jsonstring = new {\n",
        "        query = query\n",
        "    };\n",
        "\n",
        "    return jsonstring.SerializeToJson();\n",
        "}\n",
        "Console.WriteLine(GetQuery());\n",
        ""
      ],
      "outputs": [
        {
          "output_type": "execute_result",
          "data": {
            "text/plain": "{\"query\":\"union customMetrics, customEvents | limit 30 | order  by  timestamp\"}\r\n"
          },
          "execution_count": 1,
          "metadata": {}
        }
      ]
    },
    {
      "cell_type": "code",
      "execution_count": 1,
      "metadata": {
        "dotnet_interactive": {
          "language": "csharp"
        }
      },
      "source": [
        "static async Task<JsonString?> QueryAppInsights()\n",
        "{  \n",
        "  try\t\n",
        "  {\n",
        "    using HttpClient client = new HttpClient(); // typycally we would use only one http client per application.\n",
        "\n",
        "    client.DefaultRequestHeaders.Add(\"X-Api-Key\", Constants.apiKey);\n",
        "      \n",
        "    var uri = new UriBuilder();\n",
        "    uri.Scheme = \"https\";\n",
        "    uri.Host = Constants.host;\n",
        "    uri.Path = $\"{Constants.apiVersion}/apps/{Constants.applicationId}/query\";\n",
        "    Console.WriteLine( $\"URL: {uri.ToString()}\");\n",
        "\n",
        "    var postContent = new StringContent(GetQuery().ToString(), Encoding.UTF8,  \"application/json\");\n",
        "    \n",
        "    var resp = client.PostAsync(uri.ToString(), postContent );\n",
        "    await resp;\n",
        "    // Console.WriteLine(\"REQUEST\");\n",
        "    // Console.WriteLine(resp.Result.RequestMessage);\n",
        "    // Console.WriteLine(await resp.Result.RequestMessage.Content.ReadAsStringAsync());\n",
        "    // Console.WriteLine(\"RESPONSE\");\n",
        "    // Console.WriteLine(resp.Result);\n",
        "    // Console.WriteLine(await resp.Result.Content.ReadAsStringAsync());\n",
        "    resp.Result.EnsureSuccessStatusCode();\n",
        "    var response = await resp.Result.Content.ReadAsStringAsync();\n",
        "    return response.SerializeToJson();\n",
        "  }\n",
        "  catch(HttpRequestException e)\n",
        "  {\n",
        "     Console.WriteLine(\"\\nException Caught!\");\t\n",
        "     Console.WriteLine(\"Message :{0} \",e.Message);\n",
        "     return null;\n",
        "  }\n",
        "}\n",
        "await QueryAppInsights();"
      ],
      "outputs": [
        {
          "output_type": "execute_result",
          "data": {
            "text/plain": "URL: https://api.applicationinsights.io/v1/apps/912a76b4-a960-460e-b65d-30c8c7e181ca/query\r\n"
          },
          "execution_count": 1,
          "metadata": {}
        }
      ]
    },
    {
      "cell_type": "code",
      "execution_count": 1,
      "metadata": {
        "dotnet_interactive": {
          "language": "csharp"
        }
      },
      "source": [
        ""
      ],
      "outputs": []
    },
    {
      "cell_type": "code",
      "execution_count": 1,
      "metadata": {
        "dotnet_interactive": {
          "language": "csharp"
        }
      },
      "source": [
        ""
      ],
      "outputs": []
    }
  ],
  "metadata": {
    "kernelspec": {
      "display_name": ".NET (C#)",
      "language": "C#",
      "name": ".net-csharp"
    },
    "language_info": {
      "file_extension": ".cs",
      "mimetype": "text/x-csharp",
      "name": "C#",
      "pygments_lexer": "csharp",
      "version": "8.0"
    }
  },
  "nbformat": 4,
  "nbformat_minor": 4
}