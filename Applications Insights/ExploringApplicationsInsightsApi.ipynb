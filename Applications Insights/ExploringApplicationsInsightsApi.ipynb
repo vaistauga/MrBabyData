{
  "cells": [
    {
      "cell_type": "code",
      "execution_count": 1,
      "metadata": {
        "dotnet_interactive": {
          "language": "csharp"
        }
      },
      "source": [
        "// Authenticate to applications insights.\n",
        "\n",
        "// Get all the logs about this entity."
      ],
      "outputs": []
    },
    {
      "cell_type": "markdown",
      "metadata": {},
      "source": [
        "## Resources and Notes\n",
        "- [Application insights API docs](https://dev.applicationinsights.io/documentation/Authorization/API-key-authentication)\n",
        "\n",
        "\n",
        "format for call\n",
        "https://api.applicationinsights.io/{api-version}/apps/{app-id}/{query-path}?[query-parameters]\n",
        " Headers \"X-Api-Key: {api-key}\"\n",
        "\n",
        "\n",
        "vai's personal instance:\n",
        "- API key: k7iqxklkgdikw6ybqlklfnmcu3air4cm7knr6581\n",
        "- app ID: 912a76b4-a960-460e-b65d-30c8c7e181ca"
      ]
    },
    {
      "cell_type": "markdown",
      "metadata": {},
      "source": [
        ""
      ]
    },
    {
      "cell_type": "code",
      "execution_count": 1,
      "metadata": {
        "dotnet_interactive": {
          "language": "csharp"
        }
      },
      "source": [
        "using System.Net.Http;\n",
        "using System.Text.Json;\n",
        "using System.IO;"
      ],
      "outputs": []
    },
    {
      "cell_type": "code",
      "execution_count": 1,
      "metadata": {
        "dotnet_interactive": {
          "language": "csharp"
        }
      },
      "source": [
        "// Constants\n",
        "\n",
        "public static class Constants{\n",
        "    public const string applicationId = \"912a76b4-a960-460e-b65d-30c8c7e181ca\";  \n",
        "    public const string apiKey = \"k7iqxklkgdikw6ybqlklfnmcu3air4cm7knr6581\"; \n",
        "    public const string host = \"api.applicationinsights.io\";\n",
        "    public const string apiVersion = \"v1\";\n",
        "    public const string query =\"metrics/requests/count\";\n",
        "}"
      ],
      "outputs": []
    },
    {
      "cell_type": "code",
      "execution_count": 1,
      "metadata": {
        "dotnet_interactive": {
          "language": "csharp"
        }
      },
      "source": [
        "public static JsonString GetQuery()\n",
        "{\n",
        "    const string query = @\"union customMetrics, customEvents | limit 30 | order  by  timestamp\";\n",
        "    var jsonstring = new {\n",
        "        query = query\n",
        "    };\n",
        "\n",
        "    return jsonstring.SerializeToJson();\n",
        "}\n",
        "Console.WriteLine(GetQuery());\n",
        ""
      ],
      "outputs": [
        {
          "output_type": "execute_result",
          "data": {
            "text/plain": "{\"query\":\"union customMetrics, customEvents | limit 30 | order  by  timestamp\"}\r\n"
          },
          "execution_count": 1,
          "metadata": {}
        }
      ]
    },
    {
      "cell_type": "code",
      "execution_count": 1,
      "metadata": {
        "dotnet_interactive": {
          "language": "csharp"
        }
      },
      "source": [
        "static async Task<JsonDocument?> QueryAppInsights()\n",
        "{  \n",
        "  try\t\n",
        "  {\n",
        "    using HttpClient client = new HttpClient(); // typycally we would use only one http client per application.\n",
        "\n",
        "    client.DefaultRequestHeaders.Add(\"X-Api-Key\", Constants.apiKey);\n",
        "      \n",
        "    var uri = new UriBuilder();\n",
        "    uri.Scheme = \"https\";\n",
        "    uri.Host = Constants.host;\n",
        "    uri.Path = $\"{Constants.apiVersion}/apps/{Constants.applicationId}/query\";\n",
        "    Console.WriteLine( $\"URL: {uri.ToString()}\");\n",
        "\n",
        "    var postContent = new StringContent(GetQuery().ToString(), Encoding.UTF8,  \"application/json\");\n",
        "    \n",
        "    var resp = client.PostAsync(uri.ToString(), postContent );\n",
        "    await resp;\n",
        "    // Console.WriteLine(\"REQUEST\");\n",
        "    // Console.WriteLine(resp.Result.RequestMessage);\n",
        "    // Console.WriteLine(await resp.Result.RequestMessage.Content.ReadAsStringAsync());\n",
        "    // Console.WriteLine(\"RESPONSE\");\n",
        "    // Console.WriteLine(resp.Result);\n",
        "    // Console.WriteLine(await resp.Result.Content.ReadAsStringAsync());\n",
        "    resp.Result.EnsureSuccessStatusCode();\n",
        "    var responseStream = resp.Result.Content.ReadAsStream();\n",
        "    var responseJson = await JsonDocument.ParseAsync(responseStream);\n",
        "    return responseJson;\n",
        "  }\n",
        "  catch(HttpRequestException e)\n",
        "  {\n",
        "     Console.WriteLine(\"\\nException Caught!\");\t\n",
        "     Console.WriteLine(\"Message :{0} \",e.Message);\n",
        "     return null;\n",
        "  }\n",
        "}\n",
        ""
      ],
      "outputs": []
    },
    {
      "cell_type": "code",
      "execution_count": 1,
      "metadata": {
        "dotnet_interactive": {
          "language": "csharp"
        }
      },
      "source": [
        "Console.OutputEncoding"
      ],
      "outputs": [
        {
          "output_type": "execute_result",
          "data": {
            "text/html": "<table><thead><tr><th>Preamble</th><th>BodyName</th><th>EncodingName</th><th>HeaderName</th><th>WebName</th><th>WindowsCodePage</th><th>IsBrowserDisplay</th><th>IsBrowserSave</th><th>IsMailNewsDisplay</th><th>IsMailNewsSave</th><th>IsSingleByte</th><th>EncoderFallback</th><th>DecoderFallback</th><th>IsReadOnly</th><th>CodePage</th></tr></thead><tbody><tr><td><div class=\"dni-plaintext\">System.Text.UTF8Encoding</div></td><td><div class=\"dni-plaintext\">utf-8</div></td><td><div class=\"dni-plaintext\">Unicode (UTF-8)</div></td><td><div class=\"dni-plaintext\">utf-8</div></td><td><div class=\"dni-plaintext\">utf-8</div></td><td><div class=\"dni-plaintext\">1200</div></td><td><div class=\"dni-plaintext\">True</div></td><td><div class=\"dni-plaintext\">True</div></td><td><div class=\"dni-plaintext\">True</div></td><td><div class=\"dni-plaintext\">True</div></td><td><div class=\"dni-plaintext\">False</div></td><td><div class=\"dni-plaintext\">System.Text.EncoderReplacementFallback</div></td><td><div class=\"dni-plaintext\">System.Text.DecoderReplacementFallback</div></td><td><div class=\"dni-plaintext\">False</div></td><td><div class=\"dni-plaintext\">65001</div></td></tr></tbody></table>"
          },
          "execution_count": 1,
          "metadata": {}
        }
      ]
    },
    {
      "cell_type": "code",
      "execution_count": 1,
      "metadata": {
        "dotnet_interactive": {
          "language": "csharp"
        }
      },
      "source": [
        "var result = await QueryAppInsights();\n",
        "Console.OutputEncoding = System.Text.Encoding.UTF8;\n",
        "Console.WriteLine(result.RootElement);"
      ],
      "outputs": [
        {
          "output_type": "execute_result",
          "data": {
            "text/plain": "URL: https://api.applicationinsights.io/v1/apps/912a76b4-a960-460e-b65d-30c8c7e181ca/query\r\n"
          },
          "execution_count": 1,
          "metadata": {}
        },
        {
          "output_type": "execute_result",
          "data": {
            "text/plain": "{\"tables\":[{\"name\":\"PrimaryResult\",\"columns\":[{\"name\":\"timestamp\",\"type\":\"datetime\"},{\"name\":\"name\",\"type\":\"string\"},{\"name\":\"value\",\"type\":\"real\"},{\"name\":\"valueCount\",\"type\":\"int\"},{\"name\":\"valueSum\",\"type\":\"real\"},{\"name\":\"valueMin\",\"type\":\"real\"},{\"name\":\"valueMax\",\"type\":\"real\"},{\"name\":\"valueStdDev\",\"type\":\"real\"},{\"name\":\"customDimensions\",\"type\":\"dynamic\"},{\"name\":\"operation_Name\",\"type\":\"string\"},{\"name\":\"operation_Id\",\"type\":\"string\"},{\"name\":\"operation_ParentId\",\"type\":\"string\"},{\"name\":\"operation_SyntheticSource\",\"type\":\"string\"},{\"name\":\"session_Id\",\"type\":\"string\"},{\"name\":\"user_Id\",\"type\":\"string\"},{\"name\":\"user_AuthenticatedId\",\"type\":\"string\"},{\"name\":\"user_AccountId\",\"type\":\"string\"},{\"name\":\"application_Version\",\"type\":\"string\"},{\"name\":\"client_Type\",\"type\":\"string\"},{\"name\":\"client_Model\",\"type\":\"string\"},{\"name\":\"client_OS\",\"type\":\"string\"},{\"name\":\"client_IP\",\"type\":\"string\"},{\"name\":\"client_City\",\"type\":\"string\"},{\"name\":\"client_StateOrProvince\",\"type\":\"string\"},{\"name\":\"client_CountryOrRegion\",\"type\":\"string\"},{\"name\":\"client_Browser\",\"type\":\"string\"},{\"name\":\"cloud_RoleName\",\"type\":\"string\"},{\"name\":\"cloud_RoleInstance\",\"type\":\"string\"},{\"name\":\"appId\",\"type\":\"string\"},{\"name\":\"appName\",\"type\":\"string\"},{\"name\":\"iKey\",\"type\":\"string\"},{\"name\":\"sdkVersion\",\"type\":\"string\"},{\"name\":\"itemId\",\"type\":\"string\"},{\"name\":\"itemType\",\"type\":\"string\"},{\"name\":\"customMeasurements\",\"type\":\"dynamic\"},{\"name\":\"itemCount\",\"type\":\"int\"}],\"rows\":[[\"2021-02-09T16:07:13.6750022Z\",\"AttackApplied\",null,null,null,null,null,null,\"{\\\"payload\\\":\\\"{}\\\"}\",\"Level 1 MVP\",\"1a541ae2-ac28-4a7a-830b-5d57130af823\",\"1a541ae2-ac28-4a7a-830b-5d57130af823\",\"\",\"84745fdf-b587-45dc-9f72-6916540268f0\",\"6cc292f0-338f-4b91-91e6-eb21cabbfb42\",\"\",\"\",\"\",\"Desktop\",\"Z270P-D3 (Gigabyte Technology Co., Ltd.)\",\"Windows\",\"0.0.0.0\",\"Des Plaines\",\"Illinois\",\"United States\",\"Other\",\"\",\"\",\"912a76b4-a960-460e-b65d-30c8c7e181ca\",\"RogueTD-Dev-VaisPlayrgound\",\"59fd1304-7f5c-4fac-8de9-cdf651a32f4a\",\"\",\"df6c15b0-6af0-11eb-9d6f-5146942e3117\",\"customEvent\",null,1],[\"2021-02-09T16:07:08.6788728Z\",\"AttackApplied\",null,null,null,null,null,null,\"{\\\"payload\\\":\\\"{}\\\"}\",\"Level 1 MVP\",\"1a541ae2-ac28-4a7a-830b-5d57130af823\",\"1a541ae2-ac28-4a7a-830b-5d57130af823\",\"\",\"84745fdf-b587-45dc-9f72-6916540268f0\",\"6cc292f0-338f-4b91-91e6-eb21cabbfb42\",\"\",\"\",\"\",\"Desktop\",\"Z270P-D3 (Gigabyte Technology Co., Ltd.)\",\"Windows\",\"0.0.0.0\",\"Des Plaines\",\"Illinois\",\"United States\",\"Other\",\"\",\"\",\"912a76b4-a960-460e-b65d-30c8c7e181ca\",\"RogueTD-Dev-VaisPlayrgound\",\"59fd1304-7f5c-4fac-8de9-cdf651a32f4a\",\"\",\"dd726890-6af0-11eb-8fd7-412e8bd1405e\",\"customEvent\",null,1],[\"2021-02-09T16:07:08.677892Z\",\"AttackApplied\",null,null,null,null,null,null,\"{\\\"payload\\\":\\\"{}\\\"}\",\"Level 1 MVP\",\"1a541ae2-ac28-4a7a-830b-5d57130af823\",\"1a541ae2-ac28-4a7a-830b-5d57130af823\",\"\",\"84745fdf-b587-45dc-9f72-6916540268f0\",\"6cc292f0-338f-4b91-91e6-eb21cabbfb42\",\"\",\"\",\"\",\"Desktop\",\"Z270P-D3 (Gigabyte Technology Co., Ltd.)\",\"Windows\",\"0.0.0.0\",\"Des Plaines\",\"Illinois\",\"United States\",\"Other\",\"\",\"\",\"912a76b4-a960-460e-b65d-30c8c7e181ca\",\"RogueTD-Dev-VaisPlayrgound\",\"59fd1304-7f5c-4fac-8de9-cdf651a32f4a\",\"\",\"dd2ad843-6af0-11eb-b2c6-5bf19764fa05\",\"customEvent\",null,1],[\"2021-02-09T16:07:08.6749007Z\",\"AttackApplied\",null,null,null,null,null,null,\"{\\\"payload\\\":\\\"{}\\\"}\",\"Level 1 MVP\",\"1a541ae2-ac28-4a7a-830b-5d57130af823\",\"1a541ae2-ac28-4a7a-830b-5d57130af823\",\"\",\"84745fdf-b587-45dc-9f72-6916540268f0\",\"6cc292f0-338f-4b91-91e6-eb21cabbfb42\",\"\",\"\",\"\",\"Desktop\",\"Z270P-D3 (Gigabyte Technology Co., Ltd.)\",\"Windows\",\"0.0.0.0\",\"Des Plaines\",\"Illinois\",\"United States\",\"Other\",\"\",\"\",\"912a76b4-a960-460e-b65d-30c8c7e181ca\",\"RogueTD-Dev-VaisPlayrgound\",\"59fd1304-7f5c-4fac-8de9-cdf651a32f4a\",\"\",\"dca55490-6af0-11eb-b2c6-5bf19764fa05\",\"customEvent\",null,1],[\"2021-02-09T16:07:04.9201094Z\",\"AttackApplied\",null,null,null,null,null,null,\"{\\\"payload\\\":\\\"{}\\\"}\",\"Level 1 MVP\",\"1a541ae2-ac28-4a7a-830b-5d57130af823\",\"1a541ae2-ac28-4a7a-830b-5d57130af823\",\"\",\"84745fdf-b587-45dc-9f72-6916540268f0\",\"6cc292f0-338f-4b91-91e6-eb21cabbfb42\",\"\",\"\",\"\",\"Desktop\",\"Z270P-D3 (Gigabyte Technology Co., Ltd.)\",\"Windows\",\"0.0.0.0\",\"Des Plaines\",\"Illinois\",\"United States\",\"Other\",\"\",\"\",\"912a76b4-a960-460e-b65d-30c8c7e181ca\",\"RogueTD-Dev-VaisPlayrgound\",\"59fd1304-7f5c-4fac-8de9-cdf651a32f4a\",\"\",\"db4bdf10-6af0-11eb-9d6f-5146942e3117\",\"customEvent\",null,1],[\"2021-02-09T16:07:04.9191122Z\",\"AttackApplied\",null,null,null,null,null,null,\"{\\\"payload\\\":\\\"{}\\\"}\",\"Level 1 MVP\",\"1a541ae2-ac28-4a7a-830b-5d57130af823\",\"1a541ae2-ac28-4a7a-830b-5d57130af823\",\"\",\"84745fdf-b587-45dc-9f72-6916540268f0\",\"6cc292f0-338f-4b91-91e6-eb21cabbfb42\",\"\",\"\",\"\",\"Desktop\",\"Z270P-D3 (Gigabyte Technology Co., Ltd.)\",\"Windows\",\"0.0.0.0\",\"Des Plaines\",\"Illinois\",\"United States\",\"Other\",\"\",\"\",\"912a76b4-a960-460e-b65d-30c8c7e181ca\",\"RogueTD-Dev-VaisPlayrgound\",\"59fd1304-7f5c-4fac-8de9-cdf651a32f4a\",\"\",\"daf13bf0-6af0-11eb-a359-abfc9744262d\",\"customEvent\",null,1],[\"2021-02-09T16:07:04.9181141Z\",\"AttackApplied\",null,null,null,null,null,null,\"{\\\"payload\\\":\\\"{}\\\"}\",\"Level 1 MVP\",\"1a541ae2-ac28-4a7a-830b-5d57130af823\",\"1a541ae2-ac28-4a7a-830b-5d57130af823\",\"\",\"84745fdf-b587-45dc-9f72-6916540268f0\",\"6cc292f0-338f-4b91-91e6-eb21cabbfb42\",\"\",\"\",\"\",\"Desktop\",\"Z270P-D3 (Gigabyte Technology Co., Ltd.)\",\"Windows\",\"0.0.0.0\",\"Des Plaines\",\"Illinois\",\"United States\",\"Other\",\"\",\"\",\"912a76b4-a960-460e-b65d-30c8c7e181ca\",\"RogueTD-Dev-VaisPlayrgound\",\"59fd1304-7f5c-4fac-8de9-cdf651a32f4a\",\"\",\"da838600-6af0-11eb-a359-abfc9744262d\",\"customEvent\",null,1],[\"2021-02-09T16:07:04.9131274Z\",\"AttackApplied\",null,null,null,null,null,null,\"{\\\"payload\\\":\\\"{}\\\"}\",\"Level 1 MVP\",\"1a541ae2-ac28-4a7a-830b-5d57130af823\",\"1a541ae2-ac28-4a7a-830b-5d57130af823\",\"\",\"84745fdf-b587-45dc-9f72-6916540268f0\",\"6cc292f0-338f-4b91-91e6-eb21cabbfb42\",\"\",\"\",\"\",\"Desktop\",\"Z270P-D3 (Gigabyte Technology Co., Ltd.)\",\"Windows\",\"0.0.0.0\",\"Des Plaines\",\"Illinois\",\"United States\",\"Other\",\"\",\"\",\"912a76b4-a960-460e-b65d-30c8c7e181ca\",\"RogueTD-Dev-VaisPlayrgound\",\"59fd1304-7f5c-4fac-8de9-cdf651a32f4a\",\"\",\"da39abc8-6af0-11eb-8fd7-412e8bd1405e\",\"customEvent\",null,1],[\"2021-02-09T15:55:26.0251455Z\",\"AttackApplied\",null,null,null,null,null,null,\"{\\\"payload\\\":\\\"{}\\\"}\",\"Level 1 MVP\",\"d6eb8ea9-480d-4315-abeb-f75af7ba9564\",\"d6eb8ea9-480d-4315-abeb-f75af7ba9564\",\"\",\"7db6bbcc-d768-4b79-815f-79311dce1c0d\",\"6cc292f0-338f-4b91-91e6-eb21cabbfb42\",\"\",\"\",\"\",\"Desktop\",\"Z270P-D3 (Gigabyte Technology Co., Ltd.)\",\"Windows\",\"0.0.0.0\",\"Des Plaines\",\"Illinois\",\"United States\",\"Other\",\"\",\"\",\"912a76b4-a960-460e-b65d-30c8c7e181ca\",\"RogueTD-Dev-VaisPlayrgound\",\"59fd1304-7f5c-4fac-8de9-cdf651a32f4a\",\"\",\"3a30d960-6aef-11eb-a0f3-2bca1cc6a738\",\"customEvent\",null,1],[\"2021-02-09T15:55:26.0251455Z\",\"AttackApplied\",null,null,null,null,null,null,\"{\\\"payload\\\":\\\"{}\\\"}\",\"Level 1 MVP\",\"d6eb8ea9-480d-4315-abeb-f75af7ba9564\",\"d6eb8ea9-480d-4315-abeb-f75af7ba9564\",\"\",\"7db6bbcc-d768-4b79-815f-79311dce1c0d\",\"6cc292f0-338f-4b91-91e6-eb21cabbfb42\",\"\",\"\",\"\",\"Desktop\",\"Z270P-D3 (Gigabyte Technology Co., Ltd.)\",\"Windows\",\"0.0.0.0\",\"Des Plaines\",\"Illinois\",\"United States\",\"Other\",\"\",\"\",\"912a76b4-a960-460e-b65d-30c8c7e181ca\",\"RogueTD-Dev-VaisPlayrgound\",\"59fd1304-7f5c-4fac-8de9-cdf651a32f4a\",\"\",\"39c80570-6aef-11eb-87a8-ef74067bd33e\",\"customEvent\",null,1],[\"2021-02-09T15:55:26.0231503Z\",\"AttackApplied\",null,null,null,null,null,null,\"{\\\"payload\\\":\\\"{}\\\"}\",\"Level 1 MVP\",\"d6eb8ea9-480d-4315-abeb-f75af7ba9564\",\"d6eb8ea9-480d-4315-abeb-f75af7ba9564\",\"\",\"7db6bbcc-d768-4b79-815f-79311dce1c0d\",\"6cc292f0-338f-4b91-91e6-eb21cabbfb42\",\"\",\"\",\"\",\"Desktop\",\"Z270P-D3 (Gigabyte Technology Co., Ltd.)\",\"Windows\",\"0.0.0.0\",\"Des Plaines\",\"Illinois\",\"United States\",\"Other\",\"\",\"\",\"912a76b4-a960-460e-b65d-30c8c7e181ca\",\"RogueTD-Dev-VaisPlayrgound\",\"59fd1304-7f5c-4fac-8de9-cdf651a32f4a\",\"\",\"399ab3e0-6aef-11eb-87a8-ef74067bd33e\",\"customEvent\",null,1],[\"2021-02-09T15:55:22.0412357Z\",\"AttackApplied\",null,null,null,null,null,null,\"{\\\"payload\\\":\\\"{}\\\"}\",\"Level 1 MVP\",\"d6eb8ea9-480d-4315-abeb-f75af7ba9564\",\"d6eb8ea9-480d-4315-abeb-f75af7ba9564\",\"\",\"7db6bbcc-d768-4b79-815f-79311dce1c0d\",\"6cc292f0-338f-4b91-91e6-eb21cabbfb42\",\"\",\"\",\"\",\"Desktop\",\"Z270P-D3 (Gigabyte Technology Co., Ltd.)\",\"Windows\",\"0.0.0.0\",\"Des Plaines\",\"Illinois\",\"United States\",\"Other\",\"\",\"\",\"912a76b4-a960-460e-b65d-30c8c7e181ca\",\"RogueTD-Dev-VaisPlayrgound\",\"59fd1304-7f5c-4fac-8de9-cdf651a32f4a\",\"\",\"37a12dd6-6aef-11eb-87a8-ef74067bd33e\",\"customEvent\",null,1],[\"2021-02-09T15:55:22.0412357Z\",\"AttackApplied\",null,null,null,null,null,null,\"{\\\"payload\\\":\\\"{}\\\"}\",\"Level 1 MVP\",\"d6eb8ea9-480d-4315-abeb-f75af7ba9564\",\"d6eb8ea9-480d-4315-abeb-f75af7ba9564\",\"\",\"7db6bbcc-d768-4b79-815f-79311dce1c0d\",\"6cc292f0-338f-4b91-91e6-eb21cabbfb42\",\"\",\"\",\"\",\"Desktop\",\"Z270P-D3 (Gigabyte Technology Co., Ltd.)\",\"Windows\",\"0.0.0.0\",\"Des Plaines\",\"Illinois\",\"United States\",\"Other\",\"\",\"\",\"912a76b4-a960-460e-b65d-30c8c7e181ca\",\"RogueTD-Dev-VaisPlayrgound\",\"59fd1304-7f5c-4fac-8de9-cdf651a32f4a\",\"\",\"37fbd0f0-6aef-11eb-a0f3-2bca1cc6a738\",\"customEvent\",null,1],[\"2021-02-09T15:55:22.0402386Z\",\"AttackApplied\",null,null,null,null,null,null,\"{\\\"payload\\\":\\\"{}\\\"}\",\"Level 1 MVP\",\"d6eb8ea9-480d-4315-abeb-f75af7ba9564\",\"d6eb8ea9-480d-4315-abeb-f75af7ba9564\",\"\",\"7db6bbcc-d768-4b79-815f-79311dce1c0d\",\"6cc292f0-338f-4b91-91e6-eb21cabbfb42\",\"\",\"\",\"\",\"Desktop\",\"Z270P-D3 (Gigabyte Technology Co., Ltd.)\",\"Windows\",\"0.0.0.0\",\"Des Plaines\",\"Illinois\",\"United States\",\"Other\",\"\",\"\",\"912a76b4-a960-460e-b65d-30c8c7e181ca\",\"RogueTD-Dev-VaisPlayrgound\",\"59fd1304-7f5c-4fac-8de9-cdf651a32f4a\",\"\",\"3735e8e0-6aef-11eb-a0f3-2bca1cc6a738\",\"customEvent\",null,1],[\"2021-02-09T15:55:17.0415859Z\",\"AttackApplied\",null,null,null,null,null,null,\"{\\\"payload\\\":\\\"{}\\\"}\",\"Level 1 MVP\",\"d6eb8ea9-480d-4315-abeb-f75af7ba9564\",\"d6eb8ea9-480d-4315-abeb-f75af7ba9564\",\"\",\"7db6bbcc-d768-4b79-815f-79311dce1c0d\",\"6cc292f0-338f-4b91-91e6-eb21cabbfb42\",\"\",\"\",\"\",\"Desktop\",\"Z270P-D3 (Gigabyte Technology Co., Ltd.)\",\"Windows\",\"0.0.0.0\",\"Des Plaines\",\"Illinois\",\"United States\",\"Other\",\"\",\"\",\"912a76b4-a960-460e-b65d-30c8c7e181ca\",\"RogueTD-Dev-VaisPlayrgound\",\"59fd1304-7f5c-4fac-8de9-cdf651a32f4a\",\"\",\"34b97730-6aef-11eb-a8d1-9f80609bd9b0\",\"customEvent\",null,1],[\"2021-02-09T15:55:17.0405884Z\",\"AttackApplied\",null,null,null,null,null,null,\"{\\\"payload\\\":\\\"{}\\\"}\",\"Level 1 MVP\",\"d6eb8ea9-480d-4315-abeb-f75af7ba9564\",\"d6eb8ea9-480d-4315-abeb-f75af7ba9564\",\"\",\"7db6bbcc-d768-4b79-815f-79311dce1c0d\",\"6cc292f0-338f-4b91-91e6-eb21cabbfb42\",\"\",\"\",\"\",\"Desktop\",\"Z270P-D3 (Gigabyte Technology Co., Ltd.)\",\"Windows\",\"0.0.0.0\",\"Des Plaines\",\"Illinois\",\"United States\",\"Other\",\"\",\"\",\"912a76b4-a960-460e-b65d-30c8c7e181ca\",\"RogueTD-Dev-VaisPlayrgound\",\"59fd1304-7f5c-4fac-8de9-cdf651a32f4a\",\"\",\"3459f210-6aef-11eb-87a8-ef74067bd33e\",\"customEvent\",null,1],[\"2021-02-09T15:55:17.0395911Z\",\"AttackApplied\",null,null,null,null,null,null,\"{\\\"payload\\\":\\\"{}\\\"}\",\"Level 1 MVP\",\"d6eb8ea9-480d-4315-abeb-f75af7ba9564\",\"d6eb8ea9-480d-4315-abeb-f75af7ba9564\",\"\",\"7db6bbcc-d768-4b79-815f-79311dce1c0d\",\"6cc292f0-338f-4b91-91e6-eb21cabbfb42\",\"\",\"\",\"\",\"Desktop\",\"Z270P-D3 (Gigabyte Technology Co., Ltd.)\",\"Windows\",\"0.0.0.0\",\"Des Plaines\",\"Illinois\",\"United States\",\"Other\",\"\",\"\",\"912a76b4-a960-460e-b65d-30c8c7e181ca\",\"RogueTD-Dev-VaisPlayrgound\",\"59fd1304-7f5c-4fac-8de9-cdf651a32f4a\",\"\",\"3438ae74-6aef-11eb-a0f3-2bca1cc6a738\",\"customEvent\",null,1],[\"2021-02-09T15:55:12.0553773Z\",\"AttackApplied\",null,null,null,null,null,null,\"{\\\"payload\\\":\\\"{}\\\"}\",\"Level 1 MVP\",\"d6eb8ea9-480d-4315-abeb-f75af7ba9564\",\"d6eb8ea9-480d-4315-abeb-f75af7ba9564\",\"\",\"7db6bbcc-d768-4b79-815f-79311dce1c0d\",\"6cc292f0-338f-4b91-91e6-eb21cabbfb42\",\"\",\"\",\"\",\"Desktop\",\"Z270P-D3 (Gigabyte Technology Co., Ltd.)\",\"Windows\",\"0.0.0.0\",\"Des Plaines\",\"Illinois\",\"United States\",\"Other\",\"\",\"\",\"912a76b4-a960-460e-b65d-30c8c7e181ca\",\"RogueTD-Dev-VaisPlayrgound\",\"59fd1304-7f5c-4fac-8de9-cdf651a32f4a\",\"\",\"31c4c840-6aef-11eb-95b2-e1fa481b952d\",\"customEvent\",null,1],[\"2021-02-09T15:55:12.0543809Z\",\"AttackApplied\",null,null,null,null,null,null,\"{\\\"payload\\\":\\\"{}\\\"}\",\"Level 1 MVP\",\"d6eb8ea9-480d-4315-abeb-f75af7ba9564\",\"d6eb8ea9-480d-4315-abeb-f75af7ba9564\",\"\",\"7db6bbcc-d768-4b79-815f-79311dce1c0d\",\"6cc292f0-338f-4b91-91e6-eb21cabbfb42\",\"\",\"\",\"\",\"Desktop\",\"Z270P-D3 (Gigabyte Technology Co., Ltd.)\",\"Windows\",\"0.0.0.0\",\"Des Plaines\",\"Illinois\",\"United States\",\"Other\",\"\",\"\",\"912a76b4-a960-460e-b65d-30c8c7e181ca\",\"RogueTD-Dev-VaisPlayrgound\",\"59fd1304-7f5c-4fac-8de9-cdf651a32f4a\",\"\",\"3173c210-6aef-11eb-95b2-e1fa481b952d\",\"customEvent\",null,1],[\"2021-02-09T15:55:12.0464015Z\",\"AttackApplied\",null,null,null,null,null,null,\"{\\\"payload\\\":\\\"{}\\\"}\",\"Level 1 MVP\",\"d6eb8ea9-480d-4315-abeb-f75af7ba9564\",\"d6eb8ea9-480d-4315-abeb-f75af7ba9564\",\"\",\"7db6bbcc-d768-4b79-815f-79311dce1c0d\",\"6cc292f0-338f-4b91-91e6-eb21cabbfb42\",\"\",\"\",\"\",\"Desktop\",\"Z270P-D3 (Gigabyte Technology Co., Ltd.)\",\"Windows\",\"0.0.0.0\",\"Des Plaines\",\"Illinois\",\"United States\",\"Other\",\"\",\"\",\"912a76b4-a960-460e-b65d-30c8c7e181ca\",\"RogueTD-Dev-VaisPlayrgound\",\"59fd1304-7f5c-4fac-8de9-cdf651a32f4a\",\"\",\"31467080-6aef-11eb-a0f3-2bca1cc6a738\",\"customEvent\",null,1],[\"2021-02-09T15:37:20.9397399Z\",\"AttackApplied\",null,null,null,null,null,null,\"{\\\"payload\\\":\\\"{}\\\"}\",\"Level 1 MVP\",\"e6c465b1-5e2c-4292-941b-e841ffe37380\",\"e6c465b1-5e2c-4292-941b-e841ffe37380\",\"\",\"ede048d2-8c21-48bb-a1b3-f04d872ba9a3\",\"6cc292f0-338f-4b91-91e6-eb21cabbfb42\",\"\",\"\",\"\",\"Desktop\",\"Z270P-D3 (Gigabyte Technology Co., Ltd.)\",\"Windows\",\"0.0.0.0\",\"Des Plaines\",\"Illinois\",\"United States\",\"Other\",\"\",\"\",\"912a76b4-a960-460e-b65d-30c8c7e181ca\",\"RogueTD-Dev-VaisPlayrgound\",\"59fd1304-7f5c-4fac-8de9-cdf651a32f4a\",\"\",\"b3cd62a0-6aec-11eb-8b56-351e06e82645\",\"customEvent\",null,1],[\"2021-02-09T15:37:20.9387432Z\",\"AttackApplied\",null,null,null,null,null,null,\"{\\\"payload\\\":\\\"{}\\\"}\",\"Level 1 MVP\",\"e6c465b1-5e2c-4292-941b-e841ffe37380\",\"e6c465b1-5e2c-4292-941b-e841ffe37380\",\"\",\"ede048d2-8c21-48bb-a1b3-f04d872ba9a3\",\"6cc292f0-338f-4b91-91e6-eb21cabbfb42\",\"\",\"\",\"\",\"Desktop\",\"Z270P-D3 (Gigabyte Technology Co., Ltd.)\",\"Windows\",\"0.0.0.0\",\"Des Plaines\",\"Illinois\",\"United States\",\"Other\",\"\",\"\",\"912a76b4-a960-460e-b65d-30c8c7e181ca\",\"RogueTD-Dev-VaisPlayrgound\",\"59fd1304-7f5c-4fac-8de9-cdf651a32f4a\",\"\",\"b38cfe57-6aec-11eb-bc89-dd561e089b2e\",\"customEvent\",null,1],[\"2021-02-09T15:37:20.9377451Z\",\"AttackApplied\",null,null,null,null,null,null,\"{\\\"payload\\\":\\\"{}\\\"}\",\"Level 1 MVP\",\"e6c465b1-5e2c-4292-941b-e841ffe37380\",\"e6c465b1-5e2c-4292-941b-e841ffe37380\",\"\",\"ede048d2-8c21-48bb-a1b3-f04d872ba9a3\",\"6cc292f0-338f-4b91-91e6-eb21cabbfb42\",\"\",\"\",\"\",\"Desktop\",\"Z270P-D3 (Gigabyte Technology Co., Ltd.)\",\"Windows\",\"0.0.0.0\",\"Des Plaines\",\"Illinois\",\"United States\",\"Other\",\"\",\"\",\"912a76b4-a960-460e-b65d-30c8c7e181ca\",\"RogueTD-Dev-VaisPlayrgound\",\"59fd1304-7f5c-4fac-8de9-cdf651a32f4a\",\"\",\"b315ab60-6aec-11eb-8b56-351e06e82645\",\"customEvent\",null,1],[\"2021-02-09T15:37:20.9327576Z\",\"AttackApplied\",null,null,null,null,null,null,\"{\\\"payload\\\":\\\"{}\\\"}\",\"Level 1 MVP\",\"e6c465b1-5e2c-4292-941b-e841ffe37380\",\"e6c465b1-5e2c-4292-941b-e841ffe37380\",\"\",\"ede048d2-8c21-48bb-a1b3-f04d872ba9a3\",\"6cc292f0-338f-4b91-91e6-eb21cabbfb42\",\"\",\"\",\"\",\"Desktop\",\"Z270P-D3 (Gigabyte Technology Co., Ltd.)\",\"Windows\",\"0.0.0.0\",\"Des Plaines\",\"Illinois\",\"United States\",\"Other\",\"\",\"\",\"912a76b4-a960-460e-b65d-30c8c7e181ca\",\"RogueTD-Dev-VaisPlayrgound\",\"59fd1304-7f5c-4fac-8de9-cdf651a32f4a\",\"\",\"b2d32420-6aec-11eb-bc89-dd561e089b2e\",\"customEvent\",null,1],[\"2021-02-09T03:33:13.8135568Z\",\"AttackApplied\",null,null,null,null,null,null,\"{\\\"payload\\\":\\\"{}\\\"}\",\"Level 1 MVP\",\"9feba36e-1a5b-4acc-8b52-1ea3b1603393\",\"9feba36e-1a5b-4acc-8b52-1ea3b1603393\",\"\",\"914c30e1-92df-4671-94eb-b2ae47464160\",\"6a4c07e5-3304-40c0-a6ce-65af3ab473b1\",\"\",\"\",\"\",\"Desktop\",\"Surface Book 3 (Microsoft Corporation)\",\"Windows\",\"0.0.0.0\",\"Des Plaines\",\"Illinois\",\"United States\",\"Other\",\"\",\"\",\"912a76b4-a960-460e-b65d-30c8c7e181ca\",\"RogueTD-Dev-VaisPlayrgound\",\"59fd1304-7f5c-4fac-8de9-cdf651a32f4a\",\"\",\"8b55fe50-6a87-11eb-bd47-9fa1f8291049\",\"customEvent\",null,1],[\"2021-02-09T03:33:13.8125566Z\",\"AttackApplied\",null,null,null,null,null,null,\"{\\\"payload\\\":\\\"{}\\\"}\",\"Level 1 MVP\",\"9feba36e-1a5b-4acc-8b52-1ea3b1603393\",\"9feba36e-1a5b-4acc-8b52-1ea3b1603393\",\"\",\"914c30e1-92df-4671-94eb-b2ae47464160\",\"6a4c07e5-3304-40c0-a6ce-65af3ab473b1\",\"\",\"\",\"\",\"Desktop\",\"Surface Book 3 (Microsoft Corporation)\",\"Windows\",\"0.0.0.0\",\"Des Plaines\",\"Illinois\",\"United States\",\"Other\",\"\",\"\",\"912a76b4-a960-460e-b65d-30c8c7e181ca\",\"RogueTD-Dev-VaisPlayrgound\",\"59fd1304-7f5c-4fac-8de9-cdf651a32f4a\",\"\",\"8aeab960-6a87-11eb-bd47-9fa1f8291049\",\"customEvent\",null,1],[\"2021-02-09T03:33:13.8095751Z\",\"AttackApplied\",null,null,null,null,null,null,\"{\\\"payload\\\":\\\"{}\\\"}\",\"Level 1 MVP\",\"9feba36e-1a5b-4acc-8b52-1ea3b1603393\",\"9feba36e-1a5b-4acc-8b52-1ea3b1603393\",\"\",\"914c30e1-92df-4671-94eb-b2ae47464160\",\"6a4c07e5-3304-40c0-a6ce-65af3ab473b1\",\"\",\"\",\"\",\"Desktop\",\"Surface Book 3 (Microsoft Corporation)\",\"Windows\",\"0.0.0.0\",\"Des Plaines\",\"Illinois\",\"United States\",\"Other\",\"\",\"\",\"912a76b4-a960-460e-b65d-30c8c7e181ca\",\"RogueTD-Dev-VaisPlayrgound\",\"59fd1304-7f5c-4fac-8de9-cdf651a32f4a\",\"\",\"8a6e8480-6a87-11eb-bcdf-11a0dd9d095b\",\"customEvent\",null,1],[\"2021-02-09T03:33:08.8123795Z\",\"AttackApplied\",null,null,null,null,null,null,\"{\\\"payload\\\":\\\"{}\\\"}\",\"Level 1 MVP\",\"9feba36e-1a5b-4acc-8b52-1ea3b1603393\",\"9feba36e-1a5b-4acc-8b52-1ea3b1603393\",\"\",\"914c30e1-92df-4671-94eb-b2ae47464160\",\"6a4c07e5-3304-40c0-a6ce-65af3ab473b1\",\"\",\"\",\"\",\"Desktop\",\"Surface Book 3 (Microsoft Corporation)\",\"Windows\",\"0.0.0.0\",\"Des Plaines\",\"Illinois\",\"United States\",\"Other\",\"\",\"\",\"912a76b4-a960-460e-b65d-30c8c7e181ca\",\"RogueTD-Dev-VaisPlayrgound\",\"59fd1304-7f5c-4fac-8de9-cdf651a32f4a\",\"\",\"88e04360-6a87-11eb-bcdf-11a0dd9d095b\",\"customEvent\",null,1],[\"2021-02-09T03:33:08.8103798Z\",\"AttackApplied\",null,null,null,null,null,null,\"{\\\"payload\\\":\\\"{}\\\"}\",\"Level 1 MVP\",\"9feba36e-1a5b-4acc-8b52-1ea3b1603393\",\"9feba36e-1a5b-4acc-8b52-1ea3b1603393\",\"\",\"914c30e1-92df-4671-94eb-b2ae47464160\",\"6a4c07e5-3304-40c0-a6ce-65af3ab473b1\",\"\",\"\",\"\",\"Desktop\",\"Surface Book 3 (Microsoft Corporation)\",\"Windows\",\"0.0.0.0\",\"Des Plaines\",\"Illinois\",\"United States\",\"Other\",\"\",\"\",\"912a76b4-a960-460e-b65d-30c8c7e181ca\",\"RogueTD-Dev-VaisPlayrgound\",\"59fd1304-7f5c-4fac-8de9-cdf651a32f4a\",\"\",\"8866cda0-6a87-11eb-bd47-9fa1f8291049\",\"customEvent\",null,1],[\"2021-02-09T03:33:08.7993459Z\",\"AttackApplied\",null,null,null,null,null,null,\"{\\\"payload\\\":\\\"{}\\\"}\",\"Level 1 MVP\",\"9feba36e-1a5b-4acc-8b52-1ea3b1603393\",\"9feba36e-1a5b-4acc-8b52-1ea3b1603393\",\"\",\"914c30e1-92df-4671-94eb-b2ae47464160\",\"6a4c07e5-3304-40c0-a6ce-65af3ab473b1\",\"\",\"\",\"\",\"Desktop\",\"Surface Book 3 (Microsoft Corporation)\",\"Windows\",\"0.0.0.0\",\"Des Plaines\",\"Illinois\",\"United States\",\"Other\",\"\",\"\",\"912a76b4-a960-460e-b65d-30c8c7e181ca\",\"RogueTD-Dev-VaisPlayrgound\",\"59fd1304-7f5c-4fac-8de9-cdf651a32f4a\",\"\",\"87c49a30-6a87-11eb-a94f-7524aa559244\",\"customEvent\",null,1]]}]}\r\n"
          },
          "execution_count": 1,
          "metadata": {}
        }
      ]
    },
    {
      "cell_type": "code",
      "execution_count": 1,
      "metadata": {
        "dotnet_interactive": {
          "language": "csharp"
        }
      },
      "source": [
        ""
      ],
      "outputs": []
    }
  ],
  "metadata": {
    "kernelspec": {
      "display_name": ".NET (C#)",
      "language": "C#",
      "name": ".net-csharp"
    },
    "language_info": {
      "file_extension": ".cs",
      "mimetype": "text/x-csharp",
      "name": "C#",
      "pygments_lexer": "csharp",
      "version": "8.0"
    }
  },
  "nbformat": 4,
  "nbformat_minor": 4
}