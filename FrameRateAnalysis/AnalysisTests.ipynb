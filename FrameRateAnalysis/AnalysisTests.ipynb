{
 "cells": [
  {
   "cell_type": "code",
   "execution_count": 1,
   "metadata": {},
   "source": [
    "#r \"nuget:Serilog.Formatting.Compact.Reader,1.0.3\"\n",
    "#r \"nuget:System.Linq.Async,4.0.0\""
   ],
   "outputs": []
  },
  {
   "cell_type": "code",
   "execution_count": 1,
   "metadata": {},
   "source": [
    "using System.IO;\n",
    "using Serilog.Events;\n",
    "using Serilog.Formatting.Compact.Reader;\n",
    "using System.Collections.Generic;\n",
    "using System.Linq;"
   ],
   "outputs": [
    {
     "output_type": "execute_result",
     "data": {
      "text/plain": "Installed package Serilog.Formatting.Compact.Reader version 1.0.3"
     },
     "execution_count": 1,
     "metadata": {}
    },
    {
     "output_type": "execute_result",
     "data": {
      "text/plain": "Installed package System.Linq.Async version 4.0.0"
     },
     "execution_count": 1,
     "metadata": {}
    }
   ]
  },
  {
   "cell_type": "code",
   "execution_count": 1,
   "metadata": {},
   "source": [
    "public async IAsyncEnumerable<PlotDatum> GetBestFrameCount()\n",
    "{\n",
    "    var compactFile = new FileInfo(@\"C:\\Users\\vaido\\SourceCode\\MrBabyData\\FrameRateAnalysis\\RogueTD_PerformanceMetricsFrameRates.clef\");\n",
    "\n",
    "    using(var stream = compactFile.OpenText())\n",
    "    {\n",
    "        while(stream.Peek() > 0){\n",
    "            var logevent = Serilog.Formatting.Compact.Reader.LogEventReader.ReadFromString(await stream.ReadLineAsync());\n",
    "          \n",
    "            yield return new PlotDatum{\n",
    "                timeStamp = logevent.Timestamp,\n",
    "                bestFrameCount = float.Parse(logevent.Properties[\"bestDuration\"].ToString())\n",
    "            };\n",
    "        }\n",
    "    }\n",
    "}\n",
    "\n",
    "public struct PlotDatum{\n",
    "    public DateTimeOffset timeStamp {get; set;}\n",
    "    public float bestFrameCount {get; set;}\n",
    "}\n",
    "\n",
    "var plotDatums = await GetBestFrameCount().ToListAsync();"
   ],
   "outputs": []
  },
  {
   "cell_type": "code",
   "execution_count": 1,
   "metadata": {},
   "source": [
    "#!javascript\n",
    "notebookScope.plot = (sgvSelector, variableName) => {\n",
    "    \n",
    "    // RequireJS is some kind of framework for loadin npm modules?\n",
    "    let dtreeLoader = interactive.configureRequire({\n",
    "        paths: {\n",
    "            d3: \"https://d3js.org/d3.v6.min\"\n",
    "        }\n",
    "    });\n",
    "\n",
    "    // not sure, but require JS needs us to run d3 code in this function?P\n",
    "    dtreeLoader([\"d3\"], function (d3) {\n",
    "\n",
    "    // Plot builder\n",
    "    function buildFrameRatePlot(svg, width, height, data) {  \n",
    "        // var some parameters for drawing this\n",
    "                var margin = 16;\n",
    "        \n",
    "                // clean clear our svg\n",
    "                svg.selectAll(\"g\").remove();\n",
    "        \n",
    "                svg.append(\"rect\")\n",
    "                    .attr(\"height\", height)\n",
    "                    .attr(\"width\", width)\n",
    "                    .style(\"fill\", \"white\")\n",
    "        \n",
    "                // plot container\n",
    "                let container = svg\n",
    "                    .append(\"g\")\n",
    "        \n",
    "                // create my scales\n",
    "                var y = d3.scaleLinear()\n",
    "                    .domain([0, 120])\n",
    "                    .range([height - margin, 0])\n",
    "                var x = d3.scaleLinear()\n",
    "                    .domain([0, 900])\n",
    "                    .range([0, width - margin * 2])\n",
    "        \n",
    "            var yAxis = g => g\n",
    "                .attr(\"transform\", `translate(30,8)`)\n",
    "                .call(d3.axisLeft(y))\n",
    "            var xAxis = g => g\n",
    "                .attr(\"transform\", `translate(30, ${height - 8})`)\n",
    "                .call(d3.axisBottom(x))\n",
    "        \n",
    "            svg.append(\"g\")\n",
    "                .call(yAxis);\n",
    "            svg.append(\"g\")\n",
    "                .call(xAxis);\n",
    "        }\n",
    "        \n",
    "        // var some parameters for drawing this\n",
    "        var height = 300;\n",
    "        var width = 1000;\n",
    "\n",
    "        // get a reference to our svg\n",
    "        var svg = d3.\n",
    "            select(sgvSelector)\n",
    "\n",
    "        buildFrameRatePlot(svg, width, height)\n",
    "\n",
    "        return svg.node()\n",
    "    });\n",
    "}"
   ],
   "outputs": [
    {
     "output_type": "execute_result",
     "data": {
      "text/html": "<script type=\"text/javascript\">if (typeof window.createDotnetInteractiveClient === typeof Function) {\r\ncreateDotnetInteractiveClient('http://localhost:25891/').then(function (interactive) {\r\nlet notebookScope = getDotnetInteractiveScope('http://localhost:25891/');\r\nnotebookScope.plot = (sgvSelector, variableName) => {\r\n    \r\n    // RequireJS is some kind of framework for loadin npm modules?\r\n    let dtreeLoader = interactive.configureRequire({\r\n        paths: {\r\n            d3: \"https://d3js.org/d3.v6.min\"\r\n        }\r\n    });\r\n\r\n    // not sure, but require JS needs us to run d3 code in this function?P\r\n    dtreeLoader([\"d3\"], function (d3) {\r\n\r\n            // Plot builder\r\n    function buildFrameRatePlot(svg, width, height, ) {  \r\n        // var some parameters for drawing this\r\n                var margin = 16;\r\n        \r\n                // clean clear our svg\r\n                svg.selectAll(\"g\").remove();\r\n        \r\n                svg.append(\"rect\")\r\n                    .attr(\"height\", height)\r\n                    .attr(\"width\", width)\r\n                    .style(\"fill\", \"white\")\r\n        \r\n                // plot container\r\n                let container = svg\r\n                    .append(\"g\")\r\n        \r\n                // create my scales\r\n                var y = d3.scaleLinear()\r\n                    .domain([0, 120])\r\n                    .range([height - margin, 0])\r\n                var x = d3.scaleLinear()\r\n                    .domain([0, 900])\r\n                    .range([0, width - margin * 2])\r\n        \r\n            var yAxis = g => g\r\n                .attr(\"transform\", `translate(30,8)`)\r\n                .call(d3.axisLeft(y))\r\n            var xAxis = g => g\r\n                .attr(\"transform\", `translate(30, ${height - 8})`)\r\n                .call(d3.axisBottom(x))\r\n        \r\n            svg.append(\"g\")\r\n                .call(yAxis);\r\n            svg.append(\"g\")\r\n                .call(xAxis);\r\n        }\r\n\r\n        // var some parameters for drawing this\r\n        var height = 300;\r\n        var width = 1000;\r\n\r\n        // get a reference to our svg\r\n        var svg = d3.\r\n            select(sgvSelector)\r\n\r\n        buildFrameRatePlot(svg, width, height)\r\n\r\n        return svg.node()\r\n    });\r\n}\r\n});\r\n}</script>"
     },
     "execution_count": 1,
     "metadata": {}
    }
   ]
  },
  {
   "cell_type": "code",
   "execution_count": 1,
   "metadata": {},
   "source": [
    "#!html\n",
    "<svg id=\"dataPlot1\" height=300 width=1000></svg>\n",
    "\n",
    "#!js\n",
    "notebookScope.plot(\"svg#dataPlot1\", \"plotDatums\");"
   ],
   "outputs": [
    {
     "output_type": "execute_result",
     "data": {
      "text/html": "<svg id=\"dataPlot1\" height=300 width=1000></svg>\r\n\r\n"
     },
     "execution_count": 1,
     "metadata": {}
    },
    {
     "output_type": "execute_result",
     "data": {
      "text/html": "<script type=\"text/javascript\">if (typeof window.createDotnetInteractiveClient === typeof Function) {\r\ncreateDotnetInteractiveClient('http://localhost:25891/').then(function (interactive) {\r\nlet notebookScope = getDotnetInteractiveScope('http://localhost:25891/');\r\n\r\nnotebookScope.plot(\"svg#dataPlot1\", \"plotDatums\");\r\n});\r\n}</script>"
     },
     "execution_count": 1,
     "metadata": {}
    }
   ]
  }
 ],
 "metadata": {
  "kernelspec": {
   "display_name": ".NET (C#)",
   "language": "C#",
   "name": ".net-csharp"
  },
  "language_info": {
   "file_extension": ".cs",
   "mimetype": "text/x-csharp",
   "name": "C#",
   "pygments_lexer": "csharp",
   "version": "8.0"
  }
 },
 "nbformat": 4,
 "nbformat_minor": 4
}