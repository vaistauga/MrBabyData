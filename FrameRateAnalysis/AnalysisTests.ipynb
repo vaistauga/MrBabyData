{
 "cells": [
  {
   "cell_type": "code",
   "execution_count": 1,
   "metadata": {},
   "source": [
    "#r \"nuget:Serilog.Formatting.Compact.Reader,1.0.3\"\n",
    "#r \"nuget:System.Linq.Async,4.0.0\""
   ],
   "outputs": [
    {
     "output_type": "execute_result",
     "data": {
      "text/plain": "Installed package System.Linq.Async version 4.0.0"
     },
     "execution_count": 1,
     "metadata": {}
    },
    {
     "output_type": "execute_result",
     "data": {
      "text/plain": "Installed package Serilog.Formatting.Compact.Reader version 1.0.3"
     },
     "execution_count": 1,
     "metadata": {}
    }
   ]
  },
  {
   "cell_type": "code",
   "execution_count": 1,
   "metadata": {},
   "source": [
    "using System.IO;\n",
    "using Serilog.Events;\n",
    "using Serilog.Formatting.Compact.Reader;\n",
    "using System.Collections.Generic;\n",
    "using System.Linq;"
   ],
   "outputs": []
  },
  {
   "cell_type": "code",
   "execution_count": 1,
   "metadata": {},
   "source": [
    "public async IAsyncEnumerable<PlotDatum> GetBestFrameCount()\n",
    "{\n",
    "    var compactFile = new FileInfo(@\"C:\\Users\\vaido\\SourceCode\\MrBabyData\\FrameRateAnalysis\\RogueTD_PerformanceMetricsFrameRates.clef\");\n",
    "    using(var stream = compactFile.OpenText())\n",
    "    {\n",
    "        while(stream.Peek() > 0){\n",
    "            var logevent = Serilog.Formatting.Compact.Reader.LogEventReader.ReadFromString(await stream.ReadLineAsync());\n",
    "            yield return new PlotDatum{\n",
    "                timeStamp = logevent.Timestamp,\n",
    "                bestFrameCount = float.Parse(logevent.Properties[\"bestDuration\"].ToString())\n",
    "            };\n",
    "        }\n",
    "    }\n",
    "}\n",
    "\n",
    "public struct PlotDatum{\n",
    "    public DateTimeOffset timeStamp {get; set;}\n",
    "    public float bestFrameCount {get; set;}\n",
    "}\n",
    "\n",
    "var plotDatums = await GetBestFrameCount().ToListAsync();"
   ],
   "outputs": []
  },
  {
   "cell_type": "code",
   "execution_count": 1,
   "metadata": {},
   "source": [
    "#!javascript\n",
    "notebookScope.plot = (sgvSelector) => {\n",
    "    let dtreeLoader = interactive.configureRequire({\n",
    "        paths: {\n",
    "            d3: \"https://d3js.org/d3.v6.min\"\n",
    "        }\n",
    "    });\n",
    "\n",
    "    dtreeLoader([\"d3\"], function (d3) {\n",
    "\n",
    "    var fakeData = [\n",
    "        {\n",
    "          x: 0,\n",
    "          y : 0\n",
    "        },\n",
    "        {\n",
    "          x : 20,\n",
    "          y : 50\n",
    "        },\n",
    "        {\n",
    "          x : 100,\n",
    "          y : 15\n",
    "        }\n",
    "      ]\n",
    "\n",
    "    var buildFrameRatePlot = (svg, width, height, data) => {\n",
    "        var layoutMeasures = {\n",
    "          width : width,\n",
    "          height : height,\n",
    "          plotPadding: [24,24,24,24], // top, right, bottom, left\n",
    "          get plotWidth()\n",
    "          {\n",
    "            return layoutMeasures.width - layoutMeasures.plotPadding[1] - layoutMeasures.plotPadding[3]\n",
    "          },\n",
    "          get plotHeight()\n",
    "          {\n",
    "            return layoutMeasures.height - layoutMeasures.plotPadding[0] - layoutMeasures.plotPadding[2]\n",
    "          }\n",
    "        }\n",
    "\n",
    "        // clean clear our svg\n",
    "        svg.selectAll(\"g\").remove();\n",
    "\n",
    "        // plot container\n",
    "        let container = svg\n",
    "        .append(\"g\")\n",
    "        .attr(\"height\", layoutMeasures.plotHeight)\n",
    "        .attr(\"width\", layoutMeasures.plotWidth)\n",
    "        .attr(\"transform\", `translate(${layoutMeasures.plotPadding[0]}, ${layoutMeasures.plotPadding[3]})`);\n",
    "\n",
    "        container.append(\"rect\")\n",
    "          .attr(\"height\", layoutMeasures.plotHeight)\n",
    "          .attr(\"width\", layoutMeasures.plotWidth)\n",
    "          .style(\"fill\", \"#F7F7F7\")\n",
    "\n",
    "        var y = d3.scaleLinear()\n",
    "          .domain([0, 120])\n",
    "          .range([layoutMeasures.plotHeight, 0])\n",
    "        var x = d3.scaleLinear()\n",
    "          .domain([0, 900])\n",
    "          .range([0, layoutMeasures.plotWidth])\n",
    "        var line = d3.line()\n",
    "          .defined(d => !isNaN(d.x))\n",
    "          .defined(d => !isNaN(d.y))\n",
    "          .x(d => x(d.x))\n",
    "          .y(d => y(d.y))\n",
    "\n",
    "        var yAxis = g => g\n",
    "            .attr(\"transform\",`translate(0,0)`)\n",
    "            .call(d3.axisLeft(y))\n",
    "        var xAxis = g => g\n",
    "            .attr(\"transform\",`translate(0,${layoutMeasures.plotHeight})`)\n",
    "            .call(d3.axisBottom(x))\n",
    "\n",
    "        container.append(\"g\")\n",
    "            .call(yAxis);\n",
    "        container.append(\"g\")\n",
    "            .call(xAxis);\n",
    "\n",
    "        container.append(\"path\")\n",
    "          .datum(data)\n",
    "          .attr(\"fill\", \"none\")\n",
    "          .attr(\"stroke\", \"steelblue\")\n",
    "          .attr(\"stroke-width\", 1)\n",
    "          .attr(\"d\", line);\n",
    "    }\n",
    "    \n",
    "    var svg = d3.select(sgvSelector);\n",
    "    console.log(svg);\n",
    "    buildFrameRatePlot(svg, 300, 500, fakeData);\n",
    "    });\n",
    "}"
   ],
   "outputs": [
    {
     "output_type": "execute_result",
     "data": {
      "text/html": "<script type=\"text/javascript\">if (typeof window.createDotnetInteractiveClient === typeof Function) {\r\ncreateDotnetInteractiveClient('http://localhost:56165/').then(function (interactive) {\r\nlet notebookScope = getDotnetInteractiveScope('http://localhost:56165/');\r\nnotebookScope.plot = (sgvSelector) => {\n    let dtreeLoader = interactive.configureRequire({\n        paths: {\n            d3: \"https://d3js.org/d3.v6.min\"\n        }\n    });\n\n    dtreeLoader([\"d3\"], function (d3) {\n\n    var fakeData = [\n        {\n          x: 0,\n          y : 0\n        },\n        {\n          x : 20,\n          y : 50\n        },\n        {\n          x : 100,\n          y : 15\n        }\n      ]\n\n    var buildFrameRatePlot = (svg, width, height, data) => {\n        var layoutMeasures = {\n          width : width,\n          height : height,\n          plotPadding: [24,24,24,24], // top, right, bottom, left\n          get plotWidth()\n          {\n            return layoutMeasures.width - layoutMeasures.plotPadding[1] - layoutMeasures.plotPadding[3]\n          },\n          get plotHeight()\n          {\n            return layoutMeasures.height - layoutMeasures.plotPadding[0] - layoutMeasures.plotPadding[2]\n          }\n        }\n\n        // clean clear our svg\n        svg.selectAll(\"g\").remove();\n\n        // plot container\n        let container = svg\n        .append(\"g\")\n        .attr(\"height\", layoutMeasures.plotHeight)\n        .attr(\"width\", layoutMeasures.plotWidth)\n        .attr(\"transform\", `translate(${layoutMeasures.plotPadding[0]}, ${layoutMeasures.plotPadding[3]})`);\n\n        container.append(\"rect\")\n          .attr(\"height\", layoutMeasures.plotHeight)\n          .attr(\"width\", layoutMeasures.plotWidth)\n          .style(\"fill\", \"#F7F7F7\")\n\n        var y = d3.scaleLinear()\n          .domain([0, 120])\n          .range([layoutMeasures.plotHeight, 0])\n        var x = d3.scaleLinear()\n          .domain([0, 900])\n          .range([0, layoutMeasures.plotWidth])\n        var line = d3.line()\n          .defined(d => !isNaN(d.x))\n          .defined(d => !isNaN(d.y))\n          .x(d => x(d.x))\n          .y(d => y(d.y))\n\n        var yAxis = g => g\n            .attr(\"transform\",`translate(0,0)`)\n            .call(d3.axisLeft(y))\n        var xAxis = g => g\n            .attr(\"transform\",`translate(0,${layoutMeasures.plotHeight})`)\n            .call(d3.axisBottom(x))\n\n        container.append(\"g\")\n            .call(yAxis);\n        container.append(\"g\")\n            .call(xAxis);\n\n        container.append(\"path\")\n          .datum(data)\n          .attr(\"fill\", \"none\")\n          .attr(\"stroke\", \"steelblue\")\n          .attr(\"stroke-width\", 1)\n          .attr(\"d\", line);\n    }\n    \n    var svg = d3.select(sgvSelector);\n    console.log(svg);\n    buildFrameRatePlot(svg, 300, 500, fakeData);\n    });\n}\r\n});\r\n}</script>"
     },
     "execution_count": 1,
     "metadata": {}
    }
   ]
  },
  {
   "cell_type": "code",
   "execution_count": 1,
   "metadata": {},
   "source": [
    "#!html\n",
    "<svg id=\"dataPlot1\" height=300 width=1000></svg>\n",
    "\n",
    "#!js\n",
    "notebookScope.plot(\"svg#dataPlot1\" );"
   ],
   "outputs": [
    {
     "output_type": "execute_result",
     "data": {
      "text/html": "<svg id=\"dataPlot1\" height=300 width=1000></svg>\n\n"
     },
     "execution_count": 1,
     "metadata": {}
    },
    {
     "output_type": "execute_result",
     "data": {
      "text/html": "<script type=\"text/javascript\">if (typeof window.createDotnetInteractiveClient === typeof Function) {\r\ncreateDotnetInteractiveClient('http://localhost:56165/').then(function (interactive) {\r\nlet notebookScope = getDotnetInteractiveScope('http://localhost:56165/');\r\n\nnotebookScope.plot(\"svg#dataPlot1\" );\r\n});\r\n}</script>"
     },
     "execution_count": 1,
     "metadata": {}
    }
   ]
  }
 ],
 "metadata": {
  "kernelspec": {
   "display_name": ".NET (C#)",
   "language": "C#",
   "name": ".net-csharp"
  },
  "language_info": {
   "file_extension": ".cs",
   "mimetype": "text/x-csharp",
   "name": "C#",
   "pygments_lexer": "csharp",
   "version": "8.0"
  }
 },
 "nbformat": 4,
 "nbformat_minor": 4
}