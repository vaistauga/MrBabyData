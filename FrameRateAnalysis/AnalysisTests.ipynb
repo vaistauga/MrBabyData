{
 "cells": [
  {
   "cell_type": "code",
   "execution_count": 1,
   "metadata": {},
   "source": [
    "#r \"nuget:Serilog.Formatting.Compact.Reader,1.0.3\"\n",
    "#r \"nuget:System.Linq.Async,4.0.0\""
   ],
   "outputs": [
    {
     "output_type": "execute_result",
     "data": {
      "text/plain": "Installed package Serilog.Formatting.Compact.Reader version 1.0.3"
     },
     "execution_count": 1,
     "metadata": {}
    },
    {
     "output_type": "execute_result",
     "data": {
      "text/plain": "Installed package System.Linq.Async version 4.0.0"
     },
     "execution_count": 1,
     "metadata": {}
    }
   ]
  },
  {
   "cell_type": "code",
   "execution_count": 1,
   "metadata": {},
   "source": [
    "using System.IO;\n",
    "using Serilog.Events;\n",
    "using Serilog.Formatting.Compact.Reader;\n",
    "using System.Collections.Generic;\n",
    "using System.Linq;"
   ],
   "outputs": []
  },
  {
   "cell_type": "code",
   "execution_count": 1,
   "metadata": {},
   "source": [
    "public async IAsyncEnumerable<(DateTimeOffset x, float bestFps, float worstFps)> GetBestFrameCount()\n",
    "{\n",
    "    var compactFile = new FileInfo(@\"C:\\Users\\vaido\\SourceCode\\MrBabyData\\FrameRateAnalysis\\RogueTD_PerformanceTestScene_CreepSpawning_BeforePooling.clef\");\n",
    "    using(var stream = compactFile.OpenText())\n",
    "    {\n",
    "        while(stream.Peek() > 0){\n",
    "            var logevent = Serilog.Formatting.Compact.Reader.LogEventReader.ReadFromString(await stream.ReadLineAsync());\n",
    "            yield return (\n",
    "                logevent.Timestamp,\n",
    "                1/float.Parse(logevent.Properties[\"bestDuration\"].ToString()),\n",
    "                1/float.Parse(logevent.Properties[\"worstDuration\"].ToString())\n",
    "            );\n",
    "        }\n",
    "    }\n",
    "}\n",
    "\n",
    "public struct PlotDatum{\n",
    "    public double x {get; set;}\n",
    "    public double y0 {get; set;}\n",
    "    public double y1 {get; set;}\n",
    "}\n",
    "\n",
    "var readData = await GetBestFrameCount().ToListAsync();\n",
    "\n",
    "// convert our data to format plot format\n",
    "var firstTime = readData.First().x;\n",
    "var dataOp1 = readData.Select(i => new PlotDatum\n",
    "    {\n",
    "        x = (i.x - firstTime).TotalSeconds, \n",
    "        y0 = i.worstFps, \n",
    "        y1 = i.bestFps\n",
    "    })\n",
    "    .ToList();\n",
    "\n",
    "\n",
    "// data close load and unload time of the scene might be incorrect and unrepresentitive.  Trim some data from begining and end.\n",
    "var data = dataOp1\n",
    "    .SkipWhile(i => i.x <= 5)\n",
    "    .TakeWhile( i => i.x <= dataOp1.Last().x - 5);\n",
    "    data"
   ],
   "outputs": [
    {
     "output_type": "execute_result",
     "data": {
      "text/html": "<table><thead><tr><th><i>index</i></th><th>x</th><th>y0</th><th>y1</th></tr></thead><tbody><tr><td>0</td><td><div class=\"dni-plaintext\">6.0055038</div></td><td><div class=\"dni-plaintext\">115.47209930419922</div></td><td><div class=\"dni-plaintext\">296.41925048828125</div></td></tr><tr><td>1</td><td><div class=\"dni-plaintext\">8.0094298</div></td><td><div class=\"dni-plaintext\">105.38629150390625</div></td><td><div class=\"dni-plaintext\">268.716064453125</div></td></tr><tr><td>2</td><td><div class=\"dni-plaintext\">10.0146408</div></td><td><div class=\"dni-plaintext\">43.47693634033203</div></td><td><div class=\"dni-plaintext\">264.9497985839844</div></td></tr><tr><td>3</td><td><div class=\"dni-plaintext\">12.0151991</div></td><td><div class=\"dni-plaintext\">52.15721893310547</div></td><td><div class=\"dni-plaintext\">246.49969482421875</div></td></tr><tr><td>4</td><td><div class=\"dni-plaintext\">14.019564</div></td><td><div class=\"dni-plaintext\">92.98865509033203</div></td><td><div class=\"dni-plaintext\">244.0989227294922</div></td></tr><tr><td>5</td><td><div class=\"dni-plaintext\">16.0228165</div></td><td><div class=\"dni-plaintext\">91.05809020996094</div></td><td><div class=\"dni-plaintext\">238.16329956054688</div></td></tr><tr><td>6</td><td><div class=\"dni-plaintext\">18.0272589</div></td><td><div class=\"dni-plaintext\">40.281646728515625</div></td><td><div class=\"dni-plaintext\">223.01515197753906</div></td></tr><tr><td>7</td><td><div class=\"dni-plaintext\">20.0312095</div></td><td><div class=\"dni-plaintext\">56.68034744262695</div></td><td><div class=\"dni-plaintext\">219.5919952392578</div></td></tr><tr><td>8</td><td><div class=\"dni-plaintext\">22.035653</div></td><td><div class=\"dni-plaintext\">73.66590881347656</div></td><td><div class=\"dni-plaintext\">215.572998046875</div></td></tr><tr><td>9</td><td><div class=\"dni-plaintext\">24.0425793</div></td><td><div class=\"dni-plaintext\">36.18376922607422</div></td><td><div class=\"dni-plaintext\">200.8193359375</div></td></tr><tr><td>10</td><td><div class=\"dni-plaintext\">26.044242</div></td><td><div class=\"dni-plaintext\">80.81591796875</div></td><td><div class=\"dni-plaintext\">208.9384002685547</div></td></tr><tr><td>11</td><td><div class=\"dni-plaintext\">28.0502715</div></td><td><div class=\"dni-plaintext\">99.84423828125</div></td><td><div class=\"dni-plaintext\">205.94776916503906</div></td></tr><tr><td>12</td><td><div class=\"dni-plaintext\">30.0506701</div></td><td><div class=\"dni-plaintext\">135.001953125</div></td><td><div class=\"dni-plaintext\">201.2274932861328</div></td></tr><tr><td>13</td><td><div class=\"dni-plaintext\">32.0575811</div></td><td><div class=\"dni-plaintext\">38.9588623046875</div></td><td><div class=\"dni-plaintext\">207.24530029296875</div></td></tr><tr><td>14</td><td><div class=\"dni-plaintext\">34.0598514</div></td><td><div class=\"dni-plaintext\">85.039794921875</div></td><td><div class=\"dni-plaintext\">204.3109588623047</div></td></tr><tr><td>15</td><td><div class=\"dni-plaintext\">36.0628807</div></td><td><div class=\"dni-plaintext\">128.11151123046875</div></td><td><div class=\"dni-plaintext\">204.65383911132812</div></td></tr><tr><td>16</td><td><div class=\"dni-plaintext\">38.065859</div></td><td><div class=\"dni-plaintext\">101.76460266113281</div></td><td><div class=\"dni-plaintext\">204.1983184814453</div></td></tr><tr><td>17</td><td><div class=\"dni-plaintext\">40.0688962</div></td><td><div class=\"dni-plaintext\">9.767694473266602</div></td><td><div class=\"dni-plaintext\">201.0090789794922</div></td></tr><tr><td>18</td><td><div class=\"dni-plaintext\">42.0685013</div></td><td><div class=\"dni-plaintext\">55.192203521728516</div></td><td><div class=\"dni-plaintext\">200.4972381591797</div></td></tr><tr><td>19</td><td><div class=\"dni-plaintext\">44.0695963</div></td><td><div class=\"dni-plaintext\">97.27532196044922</div></td><td><div class=\"dni-plaintext\">207.41293334960938</div></td></tr><tr><td colspan=\"4\">(33 more)</td></tr></tbody></table>"
     },
     "execution_count": 1,
     "metadata": {}
    }
   ]
  },
  {
   "cell_type": "code",
   "execution_count": 1,
   "metadata": {},
   "source": [
    "#!javascript\n",
    "notebookScope.plot = (sgvSelector, dataVariable) => {\n",
    "    let dtreeLoader = interactive.configureRequire({\n",
    "        paths: {\n",
    "            d3: \"https://d3js.org/d3.v6.min\"\n",
    "        }\n",
    "    });\n",
    "\n",
    "    dtreeLoader([\"d3\"], function (d3) {\n",
    "\n",
    "\n",
    "      var buildFrameRatePlot = (svg, width, height, data) => {\n",
    "        var layoutMeasures = {\n",
    "          width : width,\n",
    "          height : height,\n",
    "          plotPadding: [64,64,64,64], // top, right, bottom, left\n",
    "          get plotWidth()\n",
    "          {\n",
    "            return layoutMeasures.width - layoutMeasures.plotPadding[1] - layoutMeasures.plotPadding[3]\n",
    "          },\n",
    "          get plotHeight()\n",
    "          {\n",
    "            return layoutMeasures.height - layoutMeasures.plotPadding[0] - layoutMeasures.plotPadding[2]\n",
    "          }\n",
    "        }\n",
    "    \n",
    "        // clean clear our svg\n",
    "        svg.selectAll(\"g\").remove();\n",
    "      \n",
    "        // plot container\n",
    "        let container = svg\n",
    "        .append(\"g\")\n",
    "        .attr(\"height\", layoutMeasures.plotHeight)\n",
    "        .attr(\"width\", layoutMeasures.plotWidth)\n",
    "        .attr(\"transform\", `translate(${layoutMeasures.plotPadding[0]}, ${layoutMeasures.plotPadding[3]})`);\n",
    "    \n",
    "        container.append(\"rect\")\n",
    "          .attr(\"height\", layoutMeasures.plotHeight)\n",
    "          .attr(\"width\", layoutMeasures.plotWidth)\n",
    "          .style(\"fill\", \"#F7F7F7\")\n",
    "      \n",
    "        var y = d3.scaleLinear()\n",
    "          .domain([0, d3.max(data.flatMap(i => [i.y0, i.y1]))])\n",
    "          .nice()\n",
    "          .range([layoutMeasures.plotHeight, 0]);\n",
    "        var x = d3.scaleLinear()\n",
    "          .domain([0, d3.max(data, i => i.x)])\n",
    "          .range([0, layoutMeasures.plotWidth])\n",
    "        var yAxis = g => g\n",
    "            .attr(\"transform\",`translate(0,0)`)\n",
    "            .call(d3.axisLeft(y))\n",
    "        var xAxis = g => g\n",
    "            .attr(\"transform\",`translate(0,${layoutMeasures.plotHeight})`)\n",
    "            .call(d3.axisBottom(x))\n",
    "        container.append(\"g\")\n",
    "            .call(yAxis);\n",
    "        container.append(\"g\")\n",
    "            .call(xAxis);\n",
    "      \n",
    "        // Line - best framerate in sample\n",
    "        var linePoints_BestFramerate = d3.line()\n",
    "            .x(d => x(d.x))\n",
    "            .y(d => y(d.y0))\n",
    "            (data);\n",
    "        container.append('path')\n",
    "          .attr('fill', 'none')\n",
    "          .attr('stroke', 'green')\n",
    "          .attr('stroke-width', 3)\n",
    "          .attr(\"stroke-linejoin\", \"round\")\n",
    "          .attr('d', linePoints_BestFramerate);\n",
    "      \n",
    "        // Line - worst Framerate in sample\n",
    "          var linePoints_WorstFramerate = d3.line()\n",
    "            .x(d => x(d.x))\n",
    "            .y(d => y(d.y1))\n",
    "            (data);\n",
    "        container.append('path')\n",
    "          .attr('fill', 'none')\n",
    "          .attr('stroke', 'Red')\n",
    "          .attr('stroke-width', 3)\n",
    "          .attr(\"stroke-linejoin\", \"round\")\n",
    "          .attr('d', linePoints_WorstFramerate);\n",
    "      \n",
    "        // Area - difference between best and worst framerate\n",
    "        var areaDifference = d3.area()\n",
    "          .curve(d3.curveLinear)\n",
    "          .defined(d => !isNaN(d.x))\n",
    "          .defined(d => !isNaN(d.y0))\n",
    "          .x(d => x(d.x))\n",
    "          .y0(d => y(d.y0))\n",
    "          .y1(d => y(d.y1));\n",
    "        container.append(\"path\")\n",
    "          .datum(data)\n",
    "          .attr(\"fill\", \"steelblue\")\n",
    "          .attr(\"d\", areaDifference);\n",
    "      \n",
    "      // Plot title\n",
    "      svg.append('text')\n",
    "        .text(\"Frame Rate Over Time\")\n",
    "        .attr('x', layoutMeasures.width / 2)\n",
    "        .attr('y', 24)\n",
    "        .attr('dominant-baseline', 'middle')\n",
    "        .attr(\"text-anchor\", \"middle\")\n",
    "        .style('font-size', 24)\n",
    "      \n",
    "      // X-axis title\n",
    "      container.append('text')\n",
    "        .text('Time since scene start (seconds)')\n",
    "        .attr('dominant-baseline', 'middle')\n",
    "        .attr('text-anchor', 'middle')\n",
    "        .attr('x', layoutMeasures.plotWidth / 2)\n",
    "        .attr('y', layoutMeasures.plotHeight + 36)\n",
    "      \n",
    "      // Y-axis title\n",
    "      container\n",
    "        .append('g')\n",
    "        .attr('transform', `translate(-36, ${layoutMeasures.plotHeight / 2})`)\n",
    "        .append('text')\n",
    "          .text('Frames per second')\n",
    "          .attr('dominant-baseline', 'middle')\n",
    "          .attr('text-anchor', 'middle')\n",
    "          .attr('transform', 'rotate(-90)')\n",
    "    }\n",
    "\n",
    "    var svg = d3.select(sgvSelector);\n",
    "    console.log(svg);\n",
    "    interactive.csharp.getVariable(dataVariable)\n",
    "        .then( data => buildFrameRatePlot(svg, 1200, 400, data));\n",
    "    });\n",
    "}"
   ],
   "outputs": [
    {
     "output_type": "execute_result",
     "data": {
      "text/html": "<script type=\"text/javascript\">if (typeof window.createDotnetInteractiveClient === typeof Function) {\r\ncreateDotnetInteractiveClient('http://localhost:65235/').then(function (interactive) {\r\nlet notebookScope = getDotnetInteractiveScope('http://localhost:65235/');\r\nnotebookScope.plot = (sgvSelector, dataVariable) => {\n    let dtreeLoader = interactive.configureRequire({\n        paths: {\n            d3: \"https://d3js.org/d3.v6.min\"\n        }\n    });\n\n    dtreeLoader([\"d3\"], function (d3) {\n\n\n      var buildFrameRatePlot = (svg, width, height, data) => {\n        var layoutMeasures = {\n          width : width,\n          height : height,\n          plotPadding: [64,64,64,64], // top, right, bottom, left\n          get plotWidth()\n          {\n            return layoutMeasures.width - layoutMeasures.plotPadding[1] - layoutMeasures.plotPadding[3]\n          },\n          get plotHeight()\n          {\n            return layoutMeasures.height - layoutMeasures.plotPadding[0] - layoutMeasures.plotPadding[2]\n          }\n        }\n    \n        // clean clear our svg\n        svg.selectAll(\"g\").remove();\n      \n        // plot container\n        let container = svg\n        .append(\"g\")\n        .attr(\"height\", layoutMeasures.plotHeight)\n        .attr(\"width\", layoutMeasures.plotWidth)\n        .attr(\"transform\", `translate(${layoutMeasures.plotPadding[0]}, ${layoutMeasures.plotPadding[3]})`);\n    \n        container.append(\"rect\")\n          .attr(\"height\", layoutMeasures.plotHeight)\n          .attr(\"width\", layoutMeasures.plotWidth)\n          .style(\"fill\", \"#F7F7F7\")\n      \n        var y = d3.scaleLinear()\n          .domain([0, d3.max(data.flatMap(i => [i.y0, i.y1]))])\n          .nice()\n          .range([layoutMeasures.plotHeight, 0]);\n        var x = d3.scaleLinear()\n          .domain([0, d3.max(data, i => i.x)])\n          .range([0, layoutMeasures.plotWidth])\n        var yAxis = g => g\n            .attr(\"transform\",`translate(0,0)`)\n            .call(d3.axisLeft(y))\n        var xAxis = g => g\n            .attr(\"transform\",`translate(0,${layoutMeasures.plotHeight})`)\n            .call(d3.axisBottom(x))\n        container.append(\"g\")\n            .call(yAxis);\n        container.append(\"g\")\n            .call(xAxis);\n      \n        // Line - best framerate in sample\n        var linePoints_BestFramerate = d3.line()\n            .x(d => x(d.x))\n            .y(d => y(d.y0))\n            (data);\n        container.append('path')\n          .attr('fill', 'none')\n          .attr('stroke', 'green')\n          .attr('stroke-width', 3)\n          .attr(\"stroke-linejoin\", \"round\")\n          .attr('d', linePoints_BestFramerate);\n      \n        // Line - worst Framerate in sample\n          var linePoints_WorstFramerate = d3.line()\n            .x(d => x(d.x))\n            .y(d => y(d.y1))\n            (data);\n        container.append('path')\n          .attr('fill', 'none')\n          .attr('stroke', 'Red')\n          .attr('stroke-width', 3)\n          .attr(\"stroke-linejoin\", \"round\")\n          .attr('d', linePoints_WorstFramerate);\n      \n        // Area - difference between best and worst framerate\n        var areaDifference = d3.area()\n          .curve(d3.curveLinear)\n          .defined(d => !isNaN(d.x))\n          .defined(d => !isNaN(d.y0))\n          .x(d => x(d.x))\n          .y0(d => y(d.y0))\n          .y1(d => y(d.y1));\n        container.append(\"path\")\n          .datum(data)\n          .attr(\"fill\", \"steelblue\")\n          .attr(\"d\", areaDifference);\n      \n      // Plot title\n      svg.append('text')\n        .text(\"Frame Rate Over Time\")\n        .attr('x', layoutMeasures.width / 2)\n        .attr('y', 24)\n        .attr('dominant-baseline', 'middle')\n        .attr(\"text-anchor\", \"middle\")\n        .style('font-size', 24)\n      \n      // X-axis title\n      container.append('text')\n        .text('Time since scene start (seconds)')\n        .attr('dominant-baseline', 'middle')\n        .attr('text-anchor', 'middle')\n        .attr('x', layoutMeasures.plotWidth / 2)\n        .attr('y', layoutMeasures.plotHeight + 36)\n      \n      // Y-axis title\n      container\n        .append('g')\n        .attr('transform', `translate(-36, ${layoutMeasures.plotHeight / 2})`)\n        .append('text')\n          .text('Frames per second')\n          .attr('dominant-baseline', 'middle')\n          .attr('text-anchor', 'middle')\n          .attr('transform', 'rotate(-90)')\n    }\n\n    var svg = d3.select(sgvSelector);\n    console.log(svg);\n    interactive.csharp.getVariable(dataVariable)\n        .then( data => buildFrameRatePlot(svg, 1200, 400, data));\n    });\n}\r\n});\r\n}</script>"
     },
     "execution_count": 1,
     "metadata": {}
    }
   ]
  },
  {
   "cell_type": "code",
   "execution_count": 1,
   "metadata": {},
   "source": [
    "#!html\n",
    "<svg id=\"dataPlot1\" width=1200 height=400  style=\"background-color:white\"></svg>\n",
    "\n",
    "#!js\n",
    "notebookScope.plot(\"svg#dataPlot1\", \"data\" );"
   ],
   "outputs": [
    {
     "output_type": "execute_result",
     "data": {
      "text/html": "<svg id=\"dataPlot1\" width=1200 height=400  style=\"background-color:white\"></svg>\n\n"
     },
     "execution_count": 1,
     "metadata": {}
    },
    {
     "output_type": "execute_result",
     "data": {
      "text/html": "<script type=\"text/javascript\">if (typeof window.createDotnetInteractiveClient === typeof Function) {\r\ncreateDotnetInteractiveClient('http://localhost:65235/').then(function (interactive) {\r\nlet notebookScope = getDotnetInteractiveScope('http://localhost:65235/');\r\n\nnotebookScope.plot(\"svg#dataPlot1\", \"data\" );\r\n});\r\n}</script>"
     },
     "execution_count": 1,
     "metadata": {}
    }
   ]
  },
  {
   "cell_type": "code",
   "execution_count": 1,
   "metadata": {},
   "source": [
    "#!html\n",
    ""
   ],
   "outputs": [
    {
     "output_type": "execute_result",
     "data": {
      "text/html": ""
     },
     "execution_count": 1,
     "metadata": {}
    }
   ]
  },
  {
   "cell_type": "code",
   "execution_count": 1,
   "metadata": {},
   "source": [
    "#!html\n",
    ""
   ],
   "outputs": []
  }
 ],
 "metadata": {
  "kernelspec": {
   "display_name": ".NET (C#)",
   "language": "C#",
   "name": ".net-csharp"
  },
  "language_info": {
   "file_extension": ".cs",
   "mimetype": "text/x-csharp",
   "name": "C#",
   "pygments_lexer": "csharp",
   "version": "8.0"
  }
 },
 "nbformat": 4,
 "nbformat_minor": 4
}