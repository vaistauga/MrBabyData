{
 "cells": [
  {
   "cell_type": "code",
   "execution_count": 1,
   "metadata": {},
   "source": [
    "#r \"nuget:Serilog.Formatting.Compact.Reader,1.0.3\"\n",
    "#r \"nuget:System.Linq.Async,4.0.0\""
   ],
   "outputs": []
  },
  {
   "cell_type": "code",
   "execution_count": 1,
   "metadata": {},
   "source": [
    "using System.IO;\n",
    "using Serilog.Events;\n",
    "using Serilog.Formatting.Compact.Reader;\n",
    "using System.Collections.Generic;\n",
    "using System.Linq;"
   ],
   "outputs": []
  },
  {
   "cell_type": "code",
   "execution_count": 1,
   "metadata": {},
   "source": [
    "public async IAsyncEnumerable<(DateTimeOffset x, float y)> GetBestFrameCount()\n",
    "{\n",
    "    var compactFile = new FileInfo(@\"C:\\Users\\vaido\\SourceCode\\MrBabyData\\FrameRateAnalysis\\RogueTD_PerformanceMetricsFrameRates.clef\");\n",
    "    using(var stream = compactFile.OpenText())\n",
    "    {\n",
    "        while(stream.Peek() > 0){\n",
    "            var logevent = Serilog.Formatting.Compact.Reader.LogEventReader.ReadFromString(await stream.ReadLineAsync());\n",
    "            yield return (\n",
    "                logevent.Timestamp,\n",
    "                float.Parse(logevent.Properties[\"bestDuration\"].ToString())\n",
    "            );\n",
    "        }\n",
    "    }\n",
    "}\n",
    "\n",
    "public struct PlotDatum{\n",
    "    public double x {get; set;}\n",
    "    public double y {get; set;}\n",
    "}\n",
    "\n",
    "var readData = await GetBestFrameCount().ToListAsync();\n",
    "var firstTime = readData.First().x;\n",
    "var data = readData.Select(i => new PlotDatum{x = (i.x - firstTime).TotalSeconds, y = 60/i.y}).ToList();\n",
    "data"
   ],
   "outputs": [
    {
     "output_type": "execute_result",
     "data": {
      "text/html": "<table><thead><tr><th><i>index</i></th><th>x</th><th>y</th></tr></thead><tbody><tr><td>0</td><td><div class=\"dni-plaintext\">0</div></td><td><div class=\"dni-plaintext\">20849.259765625</div></td></tr><tr><td>1</td><td><div class=\"dni-plaintext\">1.0020632</div></td><td><div class=\"dni-plaintext\">20558.505859375</div></td></tr><tr><td>2</td><td><div class=\"dni-plaintext\">2.0043952</div></td><td><div class=\"dni-plaintext\">19805.90234375</div></td></tr><tr><td>3</td><td><div class=\"dni-plaintext\">3.005243</div></td><td><div class=\"dni-plaintext\">18953.154296875</div></td></tr><tr><td>4</td><td><div class=\"dni-plaintext\">4.0053185</div></td><td><div class=\"dni-plaintext\">17962.458984375</div></td></tr><tr><td>5</td><td><div class=\"dni-plaintext\">5.007538</div></td><td><div class=\"dni-plaintext\">17403.412109375</div></td></tr><tr><td>6</td><td><div class=\"dni-plaintext\">6.0112836</div></td><td><div class=\"dni-plaintext\">17095.96484375</div></td></tr><tr><td>7</td><td><div class=\"dni-plaintext\">7.0137795</div></td><td><div class=\"dni-plaintext\">16350.111328125</div></td></tr><tr><td>8</td><td><div class=\"dni-plaintext\">8.0143054</div></td><td><div class=\"dni-plaintext\">15751.751953125</div></td></tr><tr><td>9</td><td><div class=\"dni-plaintext\">9.0174597</div></td><td><div class=\"dni-plaintext\">15130.8818359375</div></td></tr><tr><td>10</td><td><div class=\"dni-plaintext\">10.0184524</div></td><td><div class=\"dni-plaintext\">14668.8515625</div></td></tr><tr><td>11</td><td><div class=\"dni-plaintext\">11.0191944</div></td><td><div class=\"dni-plaintext\">14095.7568359375</div></td></tr><tr><td>12</td><td><div class=\"dni-plaintext\">12.0228259</div></td><td><div class=\"dni-plaintext\">13574.9677734375</div></td></tr><tr><td>13</td><td><div class=\"dni-plaintext\">13.0236363</div></td><td><div class=\"dni-plaintext\">13320.900390625</div></td></tr><tr><td>14</td><td><div class=\"dni-plaintext\">14.0250853</div></td><td><div class=\"dni-plaintext\">12958.123046875</div></td></tr><tr><td>15</td><td><div class=\"dni-plaintext\">15.0287193</div></td><td><div class=\"dni-plaintext\">12692.771484375</div></td></tr><tr><td>16</td><td><div class=\"dni-plaintext\">16.028763</div></td><td><div class=\"dni-plaintext\">12402.0751953125</div></td></tr><tr><td>17</td><td><div class=\"dni-plaintext\">17.0335342</div></td><td><div class=\"dni-plaintext\">11794.771484375</div></td></tr><tr><td>18</td><td><div class=\"dni-plaintext\">18.0345243</div></td><td><div class=\"dni-plaintext\">11474.4697265625</div></td></tr><tr><td>19</td><td><div class=\"dni-plaintext\">19.0400141</div></td><td><div class=\"dni-plaintext\">11364.927734375</div></td></tr><tr><td colspan=\"3\">(893 more)</td></tr></tbody></table>"
     },
     "execution_count": 1,
     "metadata": {}
    }
   ]
  },
  {
   "cell_type": "code",
   "execution_count": 1,
   "metadata": {},
   "source": [
    "#!javascript\n",
    "notebookScope.plot = (sgvSelector, dataVariable) => {\n",
    "    let dtreeLoader = interactive.configureRequire({\n",
    "        paths: {\n",
    "            d3: \"https://d3js.org/d3.v6.min\"\n",
    "        }\n",
    "    });\n",
    "\n",
    "    dtreeLoader([\"d3\"], function (d3) {\n",
    "    var buildFrameRatePlot = (svg, width, height, data) => {\n",
    "        var layoutMeasures = {\n",
    "          width : width,\n",
    "          height : height,\n",
    "          plotPadding: [48,48,48,48], // top, right, bottom, left\n",
    "          get plotWidth()\n",
    "          {\n",
    "            return layoutMeasures.width - layoutMeasures.plotPadding[1] - layoutMeasures.plotPadding[3]\n",
    "          },\n",
    "          get plotHeight()\n",
    "          {\n",
    "            return layoutMeasures.height - layoutMeasures.plotPadding[0] - layoutMeasures.plotPadding[2]\n",
    "          }\n",
    "        }\n",
    "\n",
    "        // clean clear our svg\n",
    "        svg.selectAll(\"g\").remove();\n",
    "\n",
    "        // plot container\n",
    "        let container = svg\n",
    "        .append(\"g\")\n",
    "        .attr(\"height\", layoutMeasures.plotHeight)\n",
    "        .attr(\"width\", layoutMeasures.plotWidth)\n",
    "        .attr(\"transform\", `translate(${layoutMeasures.plotPadding[0]}, ${layoutMeasures.plotPadding[3]})`);\n",
    "\n",
    "        container.append(\"rect\")\n",
    "          .attr(\"height\", layoutMeasures.plotHeight)\n",
    "          .attr(\"width\", layoutMeasures.plotWidth)\n",
    "          .style(\"fill\", \"#F7F7F7\")            \n",
    "\n",
    "        var y = d3.scaleLinear()\n",
    "          .domain([0, d3.max(data, i => i.y)])\n",
    "          .range([layoutMeasures.plotHeight, 0])\n",
    "        var x = d3.scaleLinear()\n",
    "          .domain([0, d3.max(data, i => i.x)])\n",
    "          .range([0, layoutMeasures.plotWidth])\n",
    "          \n",
    "        var line = d3.line()\n",
    "          .defined(d => !isNaN(d.x))\n",
    "          .defined(d => !isNaN(d.y))\n",
    "          .x(d => x(d.x))\n",
    "          .y(d => y(d.y))\n",
    "\n",
    "        var yAxis = g => g\n",
    "            .attr(\"transform\",`translate(0,0)`)\n",
    "            .call(d3.axisLeft(y))\n",
    "        var xAxis = g => g\n",
    "            .attr(\"transform\",`translate(0,${layoutMeasures.plotHeight})`)\n",
    "            .call(d3.axisBottom(x))\n",
    "\n",
    "        container.append(\"g\")\n",
    "            .call(yAxis);\n",
    "        container.append(\"g\")\n",
    "            .call(xAxis);\n",
    "\n",
    "        container.append(\"path\")\n",
    "          .datum(data)\n",
    "          .attr(\"fill\", \"none\")\n",
    "          .attr(\"stroke\", \"steelblue\")\n",
    "          .attr(\"stroke-width\", 1)\n",
    "          .attr(\"d\", line);\n",
    "    }\n",
    "    \n",
    "    var svg = d3.select(sgvSelector);\n",
    "    console.log(svg);\n",
    "    interactive.csharp.getVariable(dataVariable)\n",
    "        .then( data => buildFrameRatePlot(svg, 900, 300, data));\n",
    "    });\n",
    "}"
   ],
   "outputs": [
    {
     "output_type": "execute_result",
     "data": {
      "text/html": "<script type=\"text/javascript\">if (typeof window.createDotnetInteractiveClient === typeof Function) {\r\ncreateDotnetInteractiveClient('http://localhost:5499/').then(function (interactive) {\r\nlet notebookScope = getDotnetInteractiveScope('http://localhost:5499/');\r\nnotebookScope.plot = (sgvSelector, dataVariable) => {\r\n    let dtreeLoader = interactive.configureRequire({\r\n        paths: {\r\n            d3: \"https://d3js.org/d3.v6.min\"\r\n        }\r\n    });\r\n\r\n    dtreeLoader([\"d3\"], function (d3) {\r\n    var buildFrameRatePlot = (svg, width, height, data) => {\r\n        var layoutMeasures = {\r\n          width : width,\r\n          height : height,\r\n          plotPadding: [48,48,48,48], // top, right, bottom, left\r\n          get plotWidth()\r\n          {\r\n            return layoutMeasures.width - layoutMeasures.plotPadding[1] - layoutMeasures.plotPadding[3]\r\n          },\r\n          get plotHeight()\r\n          {\r\n            return layoutMeasures.height - layoutMeasures.plotPadding[0] - layoutMeasures.plotPadding[2]\r\n          }\r\n        }\r\n\r\n        // clean clear our svg\r\n        svg.selectAll(\"g\").remove();\r\n\r\n        // plot container\r\n        let container = svg\r\n        .append(\"g\")\r\n        .attr(\"height\", layoutMeasures.plotHeight)\r\n        .attr(\"width\", layoutMeasures.plotWidth)\r\n        .attr(\"transform\", `translate(${layoutMeasures.plotPadding[0]}, ${layoutMeasures.plotPadding[3]})`);\r\n\r\n        container.append(\"rect\")\r\n          .attr(\"height\", layoutMeasures.plotHeight)\r\n          .attr(\"width\", layoutMeasures.plotWidth)\r\n          .style(\"fill\", \"#F7F7F7\")            \r\n\r\n        var y = d3.scaleLinear()\r\n          .domain([0, d3.max(data, i => i.y)])\r\n          .range([layoutMeasures.plotHeight, 0])\r\n        var x = d3.scaleLinear()\r\n          .domain([0, d3.max(data, i => i.x)])\r\n          .range([0, layoutMeasures.plotWidth])\r\n          \r\n        var line = d3.line()\r\n          .defined(d => !isNaN(d.x))\r\n          .defined(d => !isNaN(d.y))\r\n          .x(d => x(d.x))\r\n          .y(d => y(d.y))\r\n\r\n        var yAxis = g => g\r\n            .attr(\"transform\",`translate(0,0)`)\r\n            .call(d3.axisLeft(y))\r\n        var xAxis = g => g\r\n            .attr(\"transform\",`translate(0,${layoutMeasures.plotHeight})`)\r\n            .call(d3.axisBottom(x))\r\n\r\n        container.append(\"g\")\r\n            .call(yAxis);\r\n        container.append(\"g\")\r\n            .call(xAxis);\r\n\r\n        container.append(\"path\")\r\n          .datum(data)\r\n          .attr(\"fill\", \"none\")\r\n          .attr(\"stroke\", \"steelblue\")\r\n          .attr(\"stroke-width\", 1)\r\n          .attr(\"d\", line);\r\n    }\r\n    \r\n    var svg = d3.select(sgvSelector);\r\n    console.log(svg);\r\n    interactive.csharp.getVariable(dataVariable)\r\n        .then( data => buildFrameRatePlot(svg, 900, 300, data));\r\n    });\r\n}\r\n});\r\n}</script>"
     },
     "execution_count": 1,
     "metadata": {}
    }
   ]
  },
  {
   "cell_type": "code",
   "execution_count": 1,
   "metadata": {},
   "source": [
    "#!html\n",
    "<svg id=\"dataPlot1\" width=900 height=300></svg>\n",
    "\n",
    "#!js\n",
    "notebookScope.plot(\"svg#dataPlot1\", \"data\" );"
   ],
   "outputs": [
    {
     "output_type": "execute_result",
     "data": {
      "text/html": "<svg id=\"dataPlot1\" width=900 height=300></svg>\n\n"
     },
     "execution_count": 1,
     "metadata": {}
    },
    {
     "output_type": "execute_result",
     "data": {
      "text/html": "<script type=\"text/javascript\">if (typeof window.createDotnetInteractiveClient === typeof Function) {\r\ncreateDotnetInteractiveClient('http://localhost:5499/').then(function (interactive) {\r\nlet notebookScope = getDotnetInteractiveScope('http://localhost:5499/');\r\n\nnotebookScope.plot(\"svg#dataPlot1\", \"data\" );\r\n});\r\n}</script>"
     },
     "execution_count": 1,
     "metadata": {}
    }
   ]
  },
  {
   "cell_type": "code",
   "execution_count": 1,
   "metadata": {},
   "source": [
    "#!html\n",
    ""
   ],
   "outputs": [
    {
     "output_type": "execute_result",
     "data": {
      "text/html": ""
     },
     "execution_count": 1,
     "metadata": {}
    }
   ]
  },
  {
   "cell_type": "code",
   "execution_count": 1,
   "metadata": {},
   "source": [
    "#!html\n",
    ""
   ],
   "outputs": []
  }
 ],
 "metadata": {
  "kernelspec": {
   "display_name": ".NET (C#)",
   "language": "C#",
   "name": ".net-csharp"
  },
  "language_info": {
   "file_extension": ".cs",
   "mimetype": "text/x-csharp",
   "name": "C#",
   "pygments_lexer": "csharp",
   "version": "8.0"
  }
 },
 "nbformat": 4,
 "nbformat_minor": 4
}