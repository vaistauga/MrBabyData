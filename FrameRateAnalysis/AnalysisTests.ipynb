{
 "cells": [
  {
   "cell_type": "code",
   "execution_count": 1,
   "metadata": {},
   "source": [
    "#r \"nuget:Serilog.Formatting.Compact.Reader,1.0.3\"\n",
    "#r \"nuget:System.Linq.Async,4.0.0\""
   ],
   "outputs": [
    {
     "output_type": "execute_result",
     "data": {
      "text/plain": "Installed package Serilog.Formatting.Compact.Reader version 1.0.3"
     },
     "execution_count": 1,
     "metadata": {}
    },
    {
     "output_type": "execute_result",
     "data": {
      "text/plain": "Installed package System.Linq.Async version 4.0.0"
     },
     "execution_count": 1,
     "metadata": {}
    }
   ]
  },
  {
   "cell_type": "code",
   "execution_count": 1,
   "metadata": {},
   "source": [
    "using System.IO;\n",
    "using Serilog.Events;\n",
    "using Serilog.Formatting.Compact.Reader;\n",
    "using System.Collections.Generic;\n",
    "using System.Linq;"
   ],
   "outputs": []
  },
  {
   "cell_type": "code",
   "execution_count": 1,
   "metadata": {},
   "source": [
    "public async IAsyncEnumerable<PlotDatum> GetBestFrameCount()\n",
    "{\n",
    "    var compactFile = new FileInfo(@\"C:\\Users\\vaido\\SourceCode\\MrBabyData\\FrameRateAnalysis\\RogueTD_PerformanceMetricsFrameRates.clef\");\n",
    "\n",
    "    using(var stream = compactFile.OpenText())\n",
    "    {\n",
    "        while(stream.Peek() > 0){\n",
    "            var logevent = Serilog.Formatting.Compact.Reader.LogEventReader.ReadFromString(await stream.ReadLineAsync());\n",
    "          \n",
    "            yield return new PlotDatum{\n",
    "                timeStamp = logevent.Timestamp,\n",
    "                bestFrameCount = float.Parse(logevent.Properties[\"bestDuration\"].ToString())\n",
    "            };\n",
    "        }\n",
    "    }\n",
    "}\n",
    "\n",
    "public struct PlotDatum{\n",
    "    public DateTimeOffset timeStamp {get; set;}\n",
    "    public float bestFrameCount {get; set;}\n",
    "}\n",
    "\n",
    "var plotDatums = await GetBestFrameCount();"
   ],
   "outputs": [
    {
     "output_type": "error",
     "ename": "Error",
     "evalue": "(23,18): error CS1061: 'IAsyncEnumerable<PlotDatum>' does not contain a definition for 'GetAwaiter' and no accessible extension method 'GetAwaiter' accepting a first argument of type 'IAsyncEnumerable<PlotDatum>' could be found (are you missing a using directive or an assembly reference?)",
     "traceback": []
    }
   ]
  },
  {
   "cell_type": "code",
   "execution_count": 1,
   "metadata": {},
   "source": [
    ""
   ],
   "outputs": []
  },
  {
   "cell_type": "code",
   "execution_count": 1,
   "metadata": {},
   "source": [
    "#!javascript\n",
    "notebookScope.plot = (sgvSelector, variableName) => {\n",
    "    // RequireJS is some kind of framework for loadin npm modules?\n",
    "    let dtreeLoader = interactive.configureRequire({\n",
    "        paths: {\n",
    "            d3: \"https://d3js.org/d3.v6.min\"\n",
    "            frameRate: \"./FrameDataVis.js\"\n",
    "        }\n",
    "    });\n",
    "\n",
    "    // not sure, but require JS needs us to run d3 code in this function?P\n",
    "    dtreeLoader([\"d3\"], function (d3) {\n",
    "    var getData = interactive.csharp.getVariable(\"plotDatums\");\n",
    "        // var some parameters for drawing this\n",
    "        var height = 300;\n",
    "        var width = 1000;\n",
    "\n",
    "        // get a reference to our svg\n",
    "        var svg = d3.\n",
    "            select(sgvSelector)\n",
    "\n",
    "        buildFrameRatePlot(svg, width, height)\n",
    "\n",
    "        return svg.node()\n",
    "    });\n",
    "}\n",
    "\n",
    "!#html\n",
    "<div>test</div>"
   ],
   "outputs": [
    {
     "output_type": "execute_result",
     "data": {
      "text/html": "<script type=\"text/javascript\">if (typeof window.createDotnetInteractiveClient === typeof Function) {\r\ncreateDotnetInteractiveClient('http://localhost:57201/').then(function (interactive) {\r\nlet notebookScope = getDotnetInteractiveScope('http://localhost:57201/');\r\nnotebookScope.plot = (sgvSelector, variableName) => {\r\n    \r\n    // RequireJS is some kind of framework for loadin npm modules?\r\n    let dtreeLoader = interactive.configureRequire({\r\n        paths: {\r\n            d3: \"https://d3js.org/d3.v6.min\"\r\n            frameRate: \"./FrameDataVis.js\"\r\n        }\r\n    });\r\n\r\n    // not sure, but require JS needs us to run d3 code in this function?P\r\n    dtreeLoader([\"d3\"], function (d3) {\r\n\r\n    var getData = interactive.csharp.getVariable(\"plotDatums\");\r\n        \r\n        // var some parameters for drawing this\r\n        var height = 300;\r\n        var width = 1000;\r\n\r\n        // get a reference to our svg\r\n        var svg = d3.\r\n            select(sgvSelector)\r\n\r\n        buildFrameRatePlot(svg, width, height)\r\n\r\n        return svg.node()\r\n    });\r\n}\r\n\r\n!#html\r\n<div>test</div>\r\n});\r\n}</script>"
     },
     "execution_count": 1,
     "metadata": {}
    }
   ]
  },
  {
   "cell_type": "code",
   "execution_count": 1,
   "metadata": {},
   "source": [
    "#!html\n",
    "<svg id=\"dataPlot1\" height=300 width=1000></svg>\n",
    "\n",
    "#!js\n",
    "notebookScope.plot(\"svg#dataPlot1\", \"plotDatums\");"
   ],
   "outputs": [
    {
     "output_type": "execute_result",
     "data": {
      "text/html": "<svg id=\"dataPlot1\" height=300 width=1000></svg>\n\n"
     },
     "execution_count": 1,
     "metadata": {}
    },
    {
     "output_type": "execute_result",
     "data": {
      "text/html": "<script type=\"text/javascript\">if (typeof window.createDotnetInteractiveClient === typeof Function) {\r\ncreateDotnetInteractiveClient('http://localhost:57201/').then(function (interactive) {\r\nlet notebookScope = getDotnetInteractiveScope('http://localhost:57201/');\r\n\nnotebookScope.plot(\"svg#dataPlot1\", \"plotDatums\");\r\n});\r\n}</script>"
     },
     "execution_count": 1,
     "metadata": {}
    }
   ]
  },
  {
   "cell_type": "code",
   "execution_count": 1,
   "metadata": {},
   "source": [
    "#!html\n",
    ""
   ],
   "outputs": []
  }
 ],
 "metadata": {
  "kernelspec": {
   "display_name": ".NET (C#)",
   "language": "C#",
   "name": ".net-csharp"
  },
  "language_info": {
   "file_extension": ".cs",
   "mimetype": "text/x-csharp",
   "name": "C#",
   "pygments_lexer": "csharp",
   "version": "8.0"
  }
 },
 "nbformat": 4,
 "nbformat_minor": 4
}