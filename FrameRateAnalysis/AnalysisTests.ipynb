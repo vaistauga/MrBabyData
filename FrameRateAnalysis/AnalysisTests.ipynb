{
 "cells": [
  {
   "cell_type": "code",
   "execution_count": 1,
   "metadata": {},
   "source": [
    "#r \"nuget:Serilog.Formatting.Compact.Reader,1.0.3\"\n",
    "#r \"nuget:System.Linq.Async,4.0.0\""
   ],
   "outputs": [
    {
     "output_type": "execute_result",
     "data": {
      "text/plain": "Installed package System.Linq.Async version 4.0.0"
     },
     "execution_count": 1,
     "metadata": {}
    },
    {
     "output_type": "execute_result",
     "data": {
      "text/plain": "Installed package Serilog.Formatting.Compact.Reader version 1.0.3"
     },
     "execution_count": 1,
     "metadata": {}
    }
   ]
  },
  {
   "cell_type": "code",
   "execution_count": 1,
   "metadata": {},
   "source": [
    "using System.IO;\n",
    "using Serilog.Events;\n",
    "using Serilog.Formatting.Compact.Reader;\n",
    "using System.Collections.Generic;\n",
    "using System.Linq;"
   ],
   "outputs": []
  },
  {
   "cell_type": "code",
   "execution_count": 1,
   "metadata": {},
   "source": [
    "public async IAsyncEnumerable<(DateTimeOffset x, float y)> GetBestFrameCount()\n",
    "{\n",
    "    var compactFile = new FileInfo(@\"C:\\Users\\vaido\\SourceCode\\MrBabyData\\FrameRateAnalysis\\RogueTD_PerformanceMetricsFrameRates.clef\");\n",
    "    using(var stream = compactFile.OpenText())\n",
    "    {\n",
    "        while(stream.Peek() > 0){\n",
    "            var logevent = Serilog.Formatting.Compact.Reader.LogEventReader.ReadFromString(await stream.ReadLineAsync());\n",
    "            yield return (\n",
    "                logevent.Timestamp,\n",
    "                float.Parse(logevent.Properties[\"bestDuration\"].ToString())\n",
    "            );\n",
    "        }\n",
    "    }\n",
    "}\n",
    "\n",
    "public struct PlotDatum{\n",
    "    public double x {get; set;}\n",
    "    public double y0 {get; set;}\n",
    "    public double y1 {get; set;}\n",
    "}\n",
    "\n",
    "var readData = await GetBestFrameCount().ToListAsync();\n",
    "var firstTime = readData.First().x;\n",
    "var data = readData.Select(i => new PlotDatum{x = (i.x - firstTime).TotalSeconds, y0 = 60/i.y, y1 = 60/i.y + 500}).ToList();\n",
    "data"
   ],
   "outputs": [
    {
     "output_type": "execute_result",
     "data": {
      "text/html": "<table><thead><tr><th><i>index</i></th><th>x</th><th>y0</th><th>y1</th></tr></thead><tbody><tr><td>0</td><td><div class=\"dni-plaintext\">0</div></td><td><div class=\"dni-plaintext\">12929.083984375</div></td><td><div class=\"dni-plaintext\">13429.083984375</div></td></tr><tr><td>1</td><td><div class=\"dni-plaintext\">1.0063196</div></td><td><div class=\"dni-plaintext\">10181.3984375</div></td><td><div class=\"dni-plaintext\">10681.3984375</div></td></tr><tr><td>2</td><td><div class=\"dni-plaintext\">2.009968</div></td><td><div class=\"dni-plaintext\">10153.3154296875</div></td><td><div class=\"dni-plaintext\">10653.3154296875</div></td></tr><tr><td>3</td><td><div class=\"dni-plaintext\">3.0142602</div></td><td><div class=\"dni-plaintext\">10096.5908203125</div></td><td><div class=\"dni-plaintext\">10596.5908203125</div></td></tr><tr><td>4</td><td><div class=\"dni-plaintext\">4.0176302</div></td><td><div class=\"dni-plaintext\">10176.0458984375</div></td><td><div class=\"dni-plaintext\">10676.0458984375</div></td></tr><tr><td>5</td><td><div class=\"dni-plaintext\">5.0228337</div></td><td><div class=\"dni-plaintext\">10146.447265625</div></td><td><div class=\"dni-plaintext\">10646.447265625</div></td></tr><tr><td>6</td><td><div class=\"dni-plaintext\">6.02705</div></td><td><div class=\"dni-plaintext\">9876.8681640625</div></td><td><div class=\"dni-plaintext\">10376.8681640625</div></td></tr><tr><td>7</td><td><div class=\"dni-plaintext\">7.0322281</div></td><td><div class=\"dni-plaintext\">8921.26953125</div></td><td><div class=\"dni-plaintext\">9421.26953125</div></td></tr><tr><td>8</td><td><div class=\"dni-plaintext\">8.033096</div></td><td><div class=\"dni-plaintext\">8694.8955078125</div></td><td><div class=\"dni-plaintext\">9194.8955078125</div></td></tr><tr><td>9</td><td><div class=\"dni-plaintext\">9.0381437</div></td><td><div class=\"dni-plaintext\">9574.111328125</div></td><td><div class=\"dni-plaintext\">10074.111328125</div></td></tr><tr><td>10</td><td><div class=\"dni-plaintext\">10.0415254</div></td><td><div class=\"dni-plaintext\">9316.6259765625</div></td><td><div class=\"dni-plaintext\">9816.6259765625</div></td></tr><tr><td>11</td><td><div class=\"dni-plaintext\">11.0491144</div></td><td><div class=\"dni-plaintext\">9186.6728515625</div></td><td><div class=\"dni-plaintext\">9686.6728515625</div></td></tr><tr><td>12</td><td><div class=\"dni-plaintext\">12.0528988</div></td><td><div class=\"dni-plaintext\">8702.3359375</div></td><td><div class=\"dni-plaintext\">9202.3359375</div></td></tr><tr><td>13</td><td><div class=\"dni-plaintext\">13.0583824</div></td><td><div class=\"dni-plaintext\">8581.97265625</div></td><td><div class=\"dni-plaintext\">9081.97265625</div></td></tr><tr><td>14</td><td><div class=\"dni-plaintext\">14.0634702</div></td><td><div class=\"dni-plaintext\">8048.505859375</div></td><td><div class=\"dni-plaintext\">8548.505859375</div></td></tr><tr><td>15</td><td><div class=\"dni-plaintext\">15.0704139</div></td><td><div class=\"dni-plaintext\">8710.04296875</div></td><td><div class=\"dni-plaintext\">9210.04296875</div></td></tr><tr><td>16</td><td><div class=\"dni-plaintext\">16.0719991</div></td><td><div class=\"dni-plaintext\">8629.4931640625</div></td><td><div class=\"dni-plaintext\">9129.4931640625</div></td></tr><tr><td>17</td><td><div class=\"dni-plaintext\">17.0751923</div></td><td><div class=\"dni-plaintext\">8395.6005859375</div></td><td><div class=\"dni-plaintext\">8895.6005859375</div></td></tr><tr><td>18</td><td><div class=\"dni-plaintext\">18.0774987</div></td><td><div class=\"dni-plaintext\">7809.65283203125</div></td><td><div class=\"dni-plaintext\">8309.65234375</div></td></tr><tr><td>19</td><td><div class=\"dni-plaintext\">19.0809411</div></td><td><div class=\"dni-plaintext\">7907.638671875</div></td><td><div class=\"dni-plaintext\">8407.638671875</div></td></tr><tr><td colspan=\"4\">(158 more)</td></tr></tbody></table>"
     },
     "execution_count": 1,
     "metadata": {}
    }
   ]
  },
  {
   "cell_type": "code",
   "execution_count": 1,
   "metadata": {},
   "source": [
    "#!javascript\n",
    "notebookScope.plot = (sgvSelector, dataVariable) => {\n",
    "    let dtreeLoader = interactive.configureRequire({\n",
    "        paths: {\n",
    "            d3: \"https://d3js.org/d3.v6.min\"\n",
    "        }\n",
    "    });\n",
    "\n",
    "    dtreeLoader([\"d3\"], function (d3) {\n",
    "\n",
    "\n",
    "      var buildFrameRatePlot = (svg, width, height, data) => {\n",
    "        var layoutMeasures = {\n",
    "          width : width,\n",
    "          height : height,\n",
    "          plotPadding: [48,48,48,48], // top, right, bottom, left\n",
    "          get plotWidth()\n",
    "          {\n",
    "            return layoutMeasures.width - layoutMeasures.plotPadding[1] - layoutMeasures.plotPadding[3]\n",
    "          },\n",
    "          get plotHeight()\n",
    "          {\n",
    "            return layoutMeasures.height - layoutMeasures.plotPadding[0] - layoutMeasures.plotPadding[2]\n",
    "          }\n",
    "        }\n",
    "    \n",
    "        // clean clear our svg\n",
    "        svg.selectAll(\"g\").remove();\n",
    "      \n",
    "        // plot container\n",
    "        let container = svg\n",
    "        .append(\"g\")\n",
    "        .attr(\"height\", layoutMeasures.plotHeight)\n",
    "        .attr(\"width\", layoutMeasures.plotWidth)\n",
    "        .attr(\"transform\", `translate(${layoutMeasures.plotPadding[0]}, ${layoutMeasures.plotPadding[3]})`);\n",
    "    \n",
    "        container.append(\"rect\")\n",
    "          .attr(\"height\", layoutMeasures.plotHeight)\n",
    "          .attr(\"width\", layoutMeasures.plotWidth)\n",
    "          .style(\"fill\", \"#F7F7F7\")\n",
    "      \n",
    "        var y = d3.scaleLinear()\n",
    "          .domain([0, d3.max(data.flatMap(i => [i.y0, i.y1]))])\n",
    "          .nice()\n",
    "          .range([layoutMeasures.plotHeight, 0]);\n",
    "        var x = d3.scaleLinear()\n",
    "          .domain([0, d3.max(data, i => i.x)])\n",
    "          .range([0, layoutMeasures.plotWidth])\n",
    "        var yAxis = g => g\n",
    "            .attr(\"transform\",`translate(0,0)`)\n",
    "            .call(d3.axisLeft(y))\n",
    "        var xAxis = g => g\n",
    "            .attr(\"transform\",`translate(0,${layoutMeasures.plotHeight})`)\n",
    "            .call(d3.axisBottom(x))\n",
    "        container.append(\"g\")\n",
    "            .call(yAxis);\n",
    "        container.append(\"g\")\n",
    "            .call(xAxis);\n",
    "      \n",
    "        // Line - best framerate in sample\n",
    "        var linePoints_BestFramerate = d3.line()\n",
    "            .x(d => x(d.x))\n",
    "            .y(d => y(d.y0))\n",
    "            (data);\n",
    "        container.append('path')\n",
    "          .attr('fill', 'none')\n",
    "          .attr('stroke', 'green')\n",
    "          .attr('stroke-width', 3)\n",
    "          .attr(\"stroke-linejoin\", \"round\")\n",
    "          .attr('d', linePoints_BestFramerate);\n",
    "      \n",
    "        // Line - worst Framerate in sample\n",
    "          var linePoints_WorstFramerate = d3.line()\n",
    "            .x(d => x(d.x))\n",
    "            .y(d => y(d.y1))\n",
    "            (data);\n",
    "        container.append('path')\n",
    "          .attr('fill', 'none')\n",
    "          .attr('stroke', 'Red')\n",
    "          .attr('stroke-width', 3)\n",
    "          .attr(\"stroke-linejoin\", \"round\")\n",
    "          .attr('d', linePoints_WorstFramerate);\n",
    "      \n",
    "        // Area - difference between best and worst framerate\n",
    "        var areaDifference = d3.area()\n",
    "          .curve(d3.curveLinear)\n",
    "          .defined(d => !isNaN(d.x))\n",
    "          .defined(d => !isNaN(d.y0))\n",
    "          .x(d => x(d.x))\n",
    "          .y0(d => y(d.y0))\n",
    "          .y1(d => y(d.y1));\n",
    "        container.append(\"path\")\n",
    "          .datum(data)\n",
    "          .attr(\"fill\", \"steelblue\")\n",
    "          .attr(\"d\", areaDifference);\n",
    "      \n",
    "      // Plot title\n",
    "      svg.append('text')\n",
    "        .text(\"Frame Rate Over Time\")\n",
    "        .attr('x', layoutMeasures.width / 2)\n",
    "        .attr('y', 24)\n",
    "        .attr('dominant-baseline', 'middle')\n",
    "        .attr(\"text-anchor\", \"middle\")\n",
    "        .style('font-size', 24)\n",
    "      \n",
    "      // X-axis title\n",
    "      container.append('text')\n",
    "        .text('Time since scene start (seconds)')\n",
    "        .attr('dominant-baseline', 'middle')\n",
    "        .attr('text-anchor', 'middle')\n",
    "        .attr('x', layoutMeasures.plotWidth / 2)\n",
    "        .attr('y', layoutMeasures.plotHeight + 36)\n",
    "      \n",
    "      // Y-axis title\n",
    "      container\n",
    "        .append('g')\n",
    "        .attr('transform', `translate(-36, ${layoutMeasures.plotHeight / 2})`)\n",
    "        .append('text')\n",
    "          .text('Frames per second')\n",
    "          .attr('dominant-baseline', 'middle')\n",
    "          .attr('text-anchor', 'middle')\n",
    "          .attr('transform', 'rotate(-90)')\n",
    "    }\n",
    "\n",
    "    var svg = d3.select(sgvSelector);\n",
    "    console.log(svg);\n",
    "    interactive.csharp.getVariable(dataVariable)\n",
    "        .then( data => buildFrameRatePlot(svg, 1200, 700, data));\n",
    "    });\n",
    "}"
   ],
   "outputs": [
    {
     "output_type": "execute_result",
     "data": {
      "text/html": "<script type=\"text/javascript\">if (typeof window.createDotnetInteractiveClient === typeof Function) {\r\ncreateDotnetInteractiveClient('http://localhost:49480/').then(function (interactive) {\r\nlet notebookScope = getDotnetInteractiveScope('http://localhost:49480/');\r\nnotebookScope.plot = (sgvSelector, dataVariable) => {\r\n    let dtreeLoader = interactive.configureRequire({\r\n        paths: {\r\n            d3: \"https://d3js.org/d3.v6.min\"\r\n        }\r\n    });\r\n\r\n    dtreeLoader([\"d3\"], function (d3) {\r\n\r\n\r\n      var buildFrameRatePlot = (svg, width, height, data) => {\r\n        var layoutMeasures = {\r\n          width : width,\r\n          height : height,\r\n          plotPadding: [48,48,48,48], // top, right, bottom, left\r\n          get plotWidth()\r\n          {\r\n            return layoutMeasures.width - layoutMeasures.plotPadding[1] - layoutMeasures.plotPadding[3]\r\n          },\r\n          get plotHeight()\r\n          {\r\n            return layoutMeasures.height - layoutMeasures.plotPadding[0] - layoutMeasures.plotPadding[2]\r\n          }\r\n        }\r\n    \r\n        // clean clear our svg\r\n        svg.selectAll(\"g\").remove();\r\n      \r\n        // plot container\r\n        let container = svg\r\n        .append(\"g\")\r\n        .attr(\"height\", layoutMeasures.plotHeight)\r\n        .attr(\"width\", layoutMeasures.plotWidth)\r\n        .attr(\"transform\", `translate(${layoutMeasures.plotPadding[0]}, ${layoutMeasures.plotPadding[3]})`);\r\n    \r\n        container.append(\"rect\")\r\n          .attr(\"height\", layoutMeasures.plotHeight)\r\n          .attr(\"width\", layoutMeasures.plotWidth)\r\n          .style(\"fill\", \"#F7F7F7\")\r\n      \r\n        var y = d3.scaleLinear()\r\n          .domain([0, d3.max(data.flatMap(i => [i.y0, i.y1]))])\r\n          .nice()\r\n          .range([layoutMeasures.plotHeight, 0]);\r\n        var x = d3.scaleLinear()\r\n          .domain([0, d3.max(data, i => i.x)])\r\n          .range([0, layoutMeasures.plotWidth])\r\n        var yAxis = g => g\r\n            .attr(\"transform\",`translate(0,0)`)\r\n            .call(d3.axisLeft(y))\r\n        var xAxis = g => g\r\n            .attr(\"transform\",`translate(0,${layoutMeasures.plotHeight})`)\r\n            .call(d3.axisBottom(x))\r\n        container.append(\"g\")\r\n            .call(yAxis);\r\n        container.append(\"g\")\r\n            .call(xAxis);\r\n      \r\n        // Line - best framerate in sample\r\n        var linePoints_BestFramerate = d3.line()\r\n            .x(d => x(d.x))\r\n            .y(d => y(d.y0))\r\n            (data);\r\n        container.append('path')\r\n          .attr('fill', 'none')\r\n          .attr('stroke', 'green')\r\n          .attr('stroke-width', 3)\r\n          .attr(\"stroke-linejoin\", \"round\")\r\n          .attr('d', linePoints_BestFramerate);\r\n      \r\n        // Line - worst Framerate in sample\r\n          var linePoints_WorstFramerate = d3.line()\r\n            .x(d => x(d.x))\r\n            .y(d => y(d.y1))\r\n            (data);\r\n        container.append('path')\r\n          .attr('fill', 'none')\r\n          .attr('stroke', 'Red')\r\n          .attr('stroke-width', 3)\r\n          .attr(\"stroke-linejoin\", \"round\")\r\n          .attr('d', linePoints_WorstFramerate);\r\n      \r\n        // Area - difference between best and worst framerate\r\n        var areaDifference = d3.area()\r\n          .curve(d3.curveLinear)\r\n          .defined(d => !isNaN(d.x))\r\n          .defined(d => !isNaN(d.y0))\r\n          .x(d => x(d.x))\r\n          .y0(d => y(d.y0))\r\n          .y1(d => y(d.y1));\r\n        container.append(\"path\")\r\n          .datum(data)\r\n          .attr(\"fill\", \"steelblue\")\r\n          .attr(\"d\", areaDifference);\r\n      \r\n      // Plot title\r\n      svg.append('text')\r\n        .text(\"Frame Rate Over Time\")\r\n        .attr('x', layoutMeasures.width / 2)\r\n        .attr('y', 24)\r\n        .attr('dominant-baseline', 'middle')\r\n        .attr(\"text-anchor\", \"middle\")\r\n        .style('font-size', 24)\r\n      \r\n      // X-axis title\r\n      container.append('text')\r\n        .text('Time since scene start (seconds)')\r\n        .attr('dominant-baseline', 'middle')\r\n        .attr('text-anchor', 'middle')\r\n        .attr('x', layoutMeasures.plotWidth / 2)\r\n        .attr('y', layoutMeasures.plotHeight + 36)\r\n      \r\n      // Y-axis title\r\n      container\r\n        .append('g')\r\n        .attr('transform', `translate(-36, ${layoutMeasures.plotHeight / 2})`)\r\n        .append('text')\r\n          .text('Frames per second')\r\n          .attr('dominant-baseline', 'middle')\r\n          .attr('text-anchor', 'middle')\r\n          .attr('transform', 'rotate(-90)')\r\n    }\r\n\r\n    var svg = d3.select(sgvSelector);\r\n    console.log(svg);\r\n    interactive.csharp.getVariable(dataVariable)\r\n        .then( data => buildFrameRatePlot(svg, 1200, 700, data));\r\n    });\r\n}\r\n});\r\n}</script>"
     },
     "execution_count": 1,
     "metadata": {}
    }
   ]
  },
  {
   "cell_type": "code",
   "execution_count": 1,
   "metadata": {},
   "source": [
    "#!html\n",
    "<svg id=\"dataPlot1\" width=1200 height=700></svg>\n",
    "\n",
    "#!js\n",
    "notebookScope.plot(\"svg#dataPlot1\", \"data\" );"
   ],
   "outputs": [
    {
     "output_type": "execute_result",
     "data": {
      "text/html": "<svg id=\"dataPlot1\" width=1200 height=700></svg>\r\n\r\n"
     },
     "execution_count": 1,
     "metadata": {}
    },
    {
     "output_type": "execute_result",
     "data": {
      "text/html": "<script type=\"text/javascript\">if (typeof window.createDotnetInteractiveClient === typeof Function) {\r\ncreateDotnetInteractiveClient('http://localhost:49480/').then(function (interactive) {\r\nlet notebookScope = getDotnetInteractiveScope('http://localhost:49480/');\r\n\r\nnotebookScope.plot(\"svg#dataPlot1\", \"data\" );\r\n});\r\n}</script>"
     },
     "execution_count": 1,
     "metadata": {}
    }
   ]
  },
  {
   "cell_type": "code",
   "execution_count": 1,
   "metadata": {},
   "source": [
    "#!html\n",
    ""
   ],
   "outputs": [
    {
     "output_type": "execute_result",
     "data": {
      "text/html": ""
     },
     "execution_count": 1,
     "metadata": {}
    }
   ]
  },
  {
   "cell_type": "code",
   "execution_count": 1,
   "metadata": {},
   "source": [
    "#!html\n",
    ""
   ],
   "outputs": []
  }
 ],
 "metadata": {
  "kernelspec": {
   "display_name": ".NET (C#)",
   "language": "C#",
   "name": ".net-csharp"
  },
  "language_info": {
   "file_extension": ".cs",
   "mimetype": "text/x-csharp",
   "name": "C#",
   "pygments_lexer": "csharp",
   "version": "8.0"
  }
 },
 "nbformat": 4,
 "nbformat_minor": 4
}