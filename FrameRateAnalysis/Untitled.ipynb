{
 "cells": [
  {
   "cell_type": "code",
   "execution_count": 2,
   "metadata": {},
   "outputs": [
    {
     "data": {
      "text/html": [
       "<script type=\"text/javascript\">if (typeof window.createDotnetInteractiveClient === typeof Function) {\r\n",
       "createDotnetInteractiveClient('http://172.23.80.1:1000/').then(function (interactive) {\r\n",
       "let notebookScope = getDotnetInteractiveScope('http://172.23.80.1:1000/');\r\n",
       "\n",
       "\n",
       "userRepo = interactive.configureRequire({\n",
       "    paths: {\n",
       "        userRepository: \"./SourceCode/MrBabyData/FrameRateAnalysis/userRepository\"\n",
       "    }\n",
       "});\n",
       "\n",
       "require([\"userRepository\"], userRepository => { \n",
       "    console.log(\"test\");\n",
       "});\r\n",
       "});\r\n",
       "}</script>"
      ]
     },
     "metadata": {},
     "output_type": "display_data"
    }
   ],
   "source": [
    "#!js\n",
    "userRepo = interactive.configureRequire({\n",
    "    paths: {\n",
    "        userRepository: \"./SourceCode/MrBabyData/FrameRateAnalysis/userRepository\"\n",
    "    }\n",
    "});\n",
    "\n",
    "require([\"userRepository\"], userRepository => { \n",
    "    console.log(\"test\");\n",
    "});"
   ]
  },
  {
   "cell_type": "code",
   "execution_count": null,
   "metadata": {},
   "outputs": [],
   "source": []
  }
 ],
 "metadata": {
  "kernelspec": {
   "display_name": ".NET (C#)",
   "language": "C#",
   "name": ".net-csharp"
  },
  "language_info": {
   "file_extension": ".cs",
   "mimetype": "text/x-csharp",
   "name": "C#",
   "pygments_lexer": "csharp",
   "version": "8.0"
  }
 },
 "nbformat": 4,
 "nbformat_minor": 4
}
